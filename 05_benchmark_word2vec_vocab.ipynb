{
 "cells": [
  {
   "cell_type": "markdown",
   "id": "7affc45c",
   "metadata": {},
   "source": [
    "<div class=\"bg-primary text-lg-left text-white\">\n",
    "    <div >\n",
    "        <h1 class=\"text-center\" style=\"padding: 10px 0 10px 0;\">\n",
    "          Benchmark wor2vec\n",
    "        </h1>\n",
    "    </div>\n",
    "</div>\n",
    "\n",
    "- **[approche classique](#ap)**\n",
    "\n",
    "- **[Vectorisation de notre corpus](#w2)**\n",
    "\n",
    "- **[Creation des features word2vec](#cr)**\n",
    "\n",
    "- **[intersection entre le vocab google news externe et notre vocab](#go)**\n",
    "\n",
    "- **[intersection entre le vocab wikipedia externe et notre vocab](#wi)**\n",
    "\n",
    "- **[intersection entre le vocab conceptNet externe et notre vocab](#co)**\n",
    "\n",
    "- **[intersection entre le vocab fastText externe et notre vocab](#fa)**\n",
    "\n",
    "Nous allons cette fois plutot que de prendre comme features le tf-idf de notre corpus , nous utiliserons word2vec pour generer nos nouvelles features.\n",
    "\n",
    "Nous essayerons ensuite d enrichir notre vocab avec des vocabs externe disponible sur le github de gensimm \n",
    "Nous testerons les vocabs wikipedia, googlenews...\n",
    "\n",
    "https://github.com/RaRe-Technologies/gensim-data/releases\n",
    "\n",
    "En esperant pouvoir ameliorer nos predictions\n",
    "\n"
   ]
  },
  {
   "cell_type": "code",
   "execution_count": 2,
   "id": "7381c741",
   "metadata": {
    "id": "7381c741"
   },
   "outputs": [],
   "source": [
    "# Import Python libraries\n",
    "import os\n",
    "import time\n",
    "from tqdm import tqdm\n",
    "import numpy as np\n",
    "import pandas as pd\n",
    "import re\n",
    "import unicodedata\n",
    "from bs4 import BeautifulSoup\n",
    "# from langdetect import detect\n",
    "import nltk\n",
    "from nltk.corpus import stopwords\n",
    "from nltk.stem.wordnet import WordNetLemmatizer\n",
    "from nltk.stem.snowball import EnglishStemmer\n",
    "import spacy\n",
    "from spacy import displacy\n",
    "import matplotlib.pyplot as plt\n",
    "import seaborn as sns\n",
    "from wordcloud import WordCloud\n",
    "from sklearn.preprocessing import KBinsDiscretizer\n",
    "from sklearn.feature_extraction.text import TfidfVectorizer\n",
    "from sklearn.model_selection import train_test_split\n",
    "from ast import literal_eval\n",
    "from sklearn.feature_extraction.text import TfidfVectorizer\n",
    "from sklearn.preprocessing import MultiLabelBinarizer\n",
    "\n",
    "from IPython.core.display import display, HTML\n",
    "from sklearn.decomposition import NMF\n",
    "from sklearn.feature_extraction.text import CountVectorizer\n",
    "from sklearn.model_selection import GridSearchCV, RandomizedSearchCV\n",
    "from sklearn.model_selection import KFold\n",
    "from sklearn.ensemble import RandomForestClassifier\n",
    "import timeit\n",
    "from sklearn.pipeline import Pipeline\n",
    "from sklearn.metrics import accuracy_score, precision_score, recall_score, f1_score, jaccard_score\n",
    "import sklearn.metrics as metrics\n",
    "\n",
    "import warnings\n",
    "warnings.filterwarnings('ignore', category=DeprecationWarning)\n",
    "\n",
    "from sklearn.linear_model import SGDClassifier\n",
    "from sklearn.linear_model import LogisticRegression\n",
    "from sklearn.svm import LinearSVC\n",
    "from sklearn.multiclass import OneVsRestClassifier\n",
    "from sklearn.preprocessing import StandardScaler, RobustScaler"
   ]
  },
  {
   "cell_type": "code",
   "execution_count": null,
   "id": "mg_ekNhARg-l",
   "metadata": {
    "colab": {
     "base_uri": "https://localhost:8080/"
    },
    "id": "mg_ekNhARg-l",
    "outputId": "4c9ffec5-f51e-4ec6-8e54-822ee3d89542"
   },
   "outputs": [
    {
     "name": "stdout",
     "output_type": "stream",
     "text": [
      "Found existing installation: gensim 3.2.0\n",
      "Uninstalling gensim-3.2.0:\n",
      "  Successfully uninstalled gensim-3.2.0\n"
     ]
    }
   ],
   "source": [
    "# pip uninstall -y gensim"
   ]
  },
  {
   "cell_type": "code",
   "execution_count": 3,
   "id": "LN1F1Tn0Pe3j",
   "metadata": {
    "colab": {
     "base_uri": "https://localhost:8080/"
    },
    "id": "LN1F1Tn0Pe3j",
    "outputId": "36fce76c-9d4f-447b-929e-2b529aa00408"
   },
   "outputs": [
    {
     "name": "stdout",
     "output_type": "stream",
     "text": [
      "Mounted at /content/ShardDrives/\n"
     ]
    }
   ],
   "source": [
    "from google.colab import drive\n",
    "drive.mount('/content/ShardDrives/', force_remount=True)"
   ]
  },
  {
   "cell_type": "code",
   "execution_count": 4,
   "id": "3d397b7e",
   "metadata": {
    "colab": {
     "base_uri": "https://localhost:8080/",
     "height": 238
    },
    "id": "3d397b7e",
    "outputId": "7ae60a44-73ab-465b-8ad2-2f9740f04144",
    "scrolled": false
   },
   "outputs": [
    {
     "data": {
      "text/html": [
       "\n",
       "  <div id=\"df-a23fdf38-0ddd-4726-82fe-eb3b365131d8\">\n",
       "    <div class=\"colab-df-container\">\n",
       "      <div>\n",
       "<style scoped>\n",
       "    .dataframe tbody tr th:only-of-type {\n",
       "        vertical-align: middle;\n",
       "    }\n",
       "\n",
       "    .dataframe tbody tr th {\n",
       "        vertical-align: top;\n",
       "    }\n",
       "\n",
       "    .dataframe thead th {\n",
       "        text-align: right;\n",
       "    }\n",
       "</style>\n",
       "<table border=\"1\" class=\"dataframe\">\n",
       "  <thead>\n",
       "    <tr style=\"text-align: right;\">\n",
       "      <th></th>\n",
       "      <th>tags</th>\n",
       "      <th>full_text</th>\n",
       "      <th>text</th>\n",
       "      <th>score</th>\n",
       "    </tr>\n",
       "    <tr>\n",
       "      <th>Id</th>\n",
       "      <th></th>\n",
       "      <th></th>\n",
       "      <th></th>\n",
       "      <th></th>\n",
       "    </tr>\n",
       "  </thead>\n",
       "  <tbody>\n",
       "    <tr>\n",
       "      <th>5767325</th>\n",
       "      <td>[javascript, arrays]</td>\n",
       "      <td>How can I remove a specific item from an array...</td>\n",
       "      <td>[item, array, array, number, method, element, ...</td>\n",
       "      <td>10385</td>\n",
       "    </tr>\n",
       "    <tr>\n",
       "      <th>7244321</th>\n",
       "      <td>[git]</td>\n",
       "      <td>How do I update or sync a forked repository on...</td>\n",
       "      <td>[repository, github, project, fix, pull, reque...</td>\n",
       "      <td>4359</td>\n",
       "    </tr>\n",
       "    <tr>\n",
       "      <th>8710619</th>\n",
       "      <td>[java]</td>\n",
       "      <td>Why don't Java's +=, -=, *=, /= compound assig...</td>\n",
       "      <td>[java, compound, assignment, operator, today, ...</td>\n",
       "      <td>3779</td>\n",
       "    </tr>\n",
       "    <tr>\n",
       "      <th>6245570</th>\n",
       "      <td>[git]</td>\n",
       "      <td>How to get the current branch name in Git? I'm...</td>\n",
       "      <td>[branch, name, git, subversion, background, br...</td>\n",
       "      <td>3372</td>\n",
       "    </tr>\n",
       "    <tr>\n",
       "      <th>8467424</th>\n",
       "      <td>[bash]</td>\n",
       "      <td>Echo newline in Bash prints literal \\n In Bash...</td>\n",
       "      <td>[echo, newline, bash, print, bash, newline, ne...</td>\n",
       "      <td>3050</td>\n",
       "    </tr>\n",
       "  </tbody>\n",
       "</table>\n",
       "</div>\n",
       "      <button class=\"colab-df-convert\" onclick=\"convertToInteractive('df-a23fdf38-0ddd-4726-82fe-eb3b365131d8')\"\n",
       "              title=\"Convert this dataframe to an interactive table.\"\n",
       "              style=\"display:none;\">\n",
       "        \n",
       "  <svg xmlns=\"http://www.w3.org/2000/svg\" height=\"24px\"viewBox=\"0 0 24 24\"\n",
       "       width=\"24px\">\n",
       "    <path d=\"M0 0h24v24H0V0z\" fill=\"none\"/>\n",
       "    <path d=\"M18.56 5.44l.94 2.06.94-2.06 2.06-.94-2.06-.94-.94-2.06-.94 2.06-2.06.94zm-11 1L8.5 8.5l.94-2.06 2.06-.94-2.06-.94L8.5 2.5l-.94 2.06-2.06.94zm10 10l.94 2.06.94-2.06 2.06-.94-2.06-.94-.94-2.06-.94 2.06-2.06.94z\"/><path d=\"M17.41 7.96l-1.37-1.37c-.4-.4-.92-.59-1.43-.59-.52 0-1.04.2-1.43.59L10.3 9.45l-7.72 7.72c-.78.78-.78 2.05 0 2.83L4 21.41c.39.39.9.59 1.41.59.51 0 1.02-.2 1.41-.59l7.78-7.78 2.81-2.81c.8-.78.8-2.07 0-2.86zM5.41 20L4 18.59l7.72-7.72 1.47 1.35L5.41 20z\"/>\n",
       "  </svg>\n",
       "      </button>\n",
       "      \n",
       "  <style>\n",
       "    .colab-df-container {\n",
       "      display:flex;\n",
       "      flex-wrap:wrap;\n",
       "      gap: 12px;\n",
       "    }\n",
       "\n",
       "    .colab-df-convert {\n",
       "      background-color: #E8F0FE;\n",
       "      border: none;\n",
       "      border-radius: 50%;\n",
       "      cursor: pointer;\n",
       "      display: none;\n",
       "      fill: #1967D2;\n",
       "      height: 32px;\n",
       "      padding: 0 0 0 0;\n",
       "      width: 32px;\n",
       "    }\n",
       "\n",
       "    .colab-df-convert:hover {\n",
       "      background-color: #E2EBFA;\n",
       "      box-shadow: 0px 1px 2px rgba(60, 64, 67, 0.3), 0px 1px 3px 1px rgba(60, 64, 67, 0.15);\n",
       "      fill: #174EA6;\n",
       "    }\n",
       "\n",
       "    [theme=dark] .colab-df-convert {\n",
       "      background-color: #3B4455;\n",
       "      fill: #D2E3FC;\n",
       "    }\n",
       "\n",
       "    [theme=dark] .colab-df-convert:hover {\n",
       "      background-color: #434B5C;\n",
       "      box-shadow: 0px 1px 3px 1px rgba(0, 0, 0, 0.15);\n",
       "      filter: drop-shadow(0px 1px 2px rgba(0, 0, 0, 0.3));\n",
       "      fill: #FFFFFF;\n",
       "    }\n",
       "  </style>\n",
       "\n",
       "      <script>\n",
       "        const buttonEl =\n",
       "          document.querySelector('#df-a23fdf38-0ddd-4726-82fe-eb3b365131d8 button.colab-df-convert');\n",
       "        buttonEl.style.display =\n",
       "          google.colab.kernel.accessAllowed ? 'block' : 'none';\n",
       "\n",
       "        async function convertToInteractive(key) {\n",
       "          const element = document.querySelector('#df-a23fdf38-0ddd-4726-82fe-eb3b365131d8');\n",
       "          const dataTable =\n",
       "            await google.colab.kernel.invokeFunction('convertToInteractive',\n",
       "                                                     [key], {});\n",
       "          if (!dataTable) return;\n",
       "\n",
       "          const docLinkHtml = 'Like what you see? Visit the ' +\n",
       "            '<a target=\"_blank\" href=https://colab.research.google.com/notebooks/data_table.ipynb>data table notebook</a>'\n",
       "            + ' to learn more about interactive tables.';\n",
       "          element.innerHTML = '';\n",
       "          dataTable['output_type'] = 'display_data';\n",
       "          await google.colab.output.renderOutput(dataTable, element);\n",
       "          const docLink = document.createElement('div');\n",
       "          docLink.innerHTML = docLinkHtml;\n",
       "          element.appendChild(docLink);\n",
       "        }\n",
       "      </script>\n",
       "    </div>\n",
       "  </div>\n",
       "  "
      ],
      "text/plain": [
       "                         tags  \\\n",
       "Id                              \n",
       "5767325  [javascript, arrays]   \n",
       "7244321                 [git]   \n",
       "8710619                [java]   \n",
       "6245570                 [git]   \n",
       "8467424                [bash]   \n",
       "\n",
       "                                                 full_text  \\\n",
       "Id                                                           \n",
       "5767325  How can I remove a specific item from an array...   \n",
       "7244321  How do I update or sync a forked repository on...   \n",
       "8710619  Why don't Java's +=, -=, *=, /= compound assig...   \n",
       "6245570  How to get the current branch name in Git? I'm...   \n",
       "8467424  Echo newline in Bash prints literal \\n In Bash...   \n",
       "\n",
       "                                                      text  score  \n",
       "Id                                                                 \n",
       "5767325  [item, array, array, number, method, element, ...  10385  \n",
       "7244321  [repository, github, project, fix, pull, reque...   4359  \n",
       "8710619  [java, compound, assignment, operator, today, ...   3779  \n",
       "6245570  [branch, name, git, subversion, background, br...   3372  \n",
       "8467424  [echo, newline, bash, print, bash, newline, ne...   3050  "
      ]
     },
     "execution_count": 4,
     "metadata": {},
     "output_type": "execute_result"
    }
   ],
   "source": [
    "data = pd.read_csv(\"/content/ShardDrives/MyDrive/nlp/stackoverflow_cleaned.csv\",sep=\";\", index_col=0,\n",
    "                               converters={\n",
    "                                   \"tags\": literal_eval,\n",
    "                                   \"text\": literal_eval\n",
    "                               }\n",
    "                  )\n",
    "\n",
    "data.head()"
   ]
  },
  {
   "cell_type": "markdown",
   "id": "052f0afa",
   "metadata": {},
   "source": [
    "Test simple dans un premier temp avec un modele tfidf qui nous servira de baseline , que l on compareras avec notre modele  word2vec"
   ]
  },
  {
   "cell_type": "code",
   "execution_count": 5,
   "id": "1cf204cc",
   "metadata": {
    "id": "1cf204cc"
   },
   "outputs": [],
   "source": [
    "X = data[[\"text\"]]\n",
    "# X = data[\"text\"]\n",
    "y = data['tags']\n",
    "\n",
    "multilabel_binarizer = MultiLabelBinarizer()\n",
    "y_encoded = multilabel_binarizer.fit_transform(y)\n",
    "\n",
    "tfidf = Pipeline([\n",
    "                ('tfidf', TfidfVectorizer(analyzer=\"word\",\n",
    "                             max_df=.6,\n",
    "                             min_df=0.005,\n",
    "                             tokenizer=None,\n",
    "                             preprocessor=' '.join,\n",
    "                             stop_words=None,\n",
    "                             lowercase=False,\n",
    "                             ngram_range=(1, 3)\n",
    "                                         ))\n",
    "            ])\n",
    "\n",
    "X_train, X_test, y_train , y_test = train_test_split(X , y_encoded, test_size = 0.2, random_state= 0)"
   ]
  },
  {
   "cell_type": "code",
   "execution_count": 6,
   "id": "4ec5eacb",
   "metadata": {
    "colab": {
     "base_uri": "https://localhost:8080/"
    },
    "id": "4ec5eacb",
    "outputId": "43bf3e02-5359-4b3b-c133-e26b2777012a",
    "scrolled": false
   },
   "outputs": [
    {
     "name": "stdout",
     "output_type": "stream",
     "text": [
      "['fasttext-wiki-news-subwords-300', 'conceptnet-numberbatch-17-06-300', 'word2vec-ruscorpora-300', 'word2vec-google-news-300', 'glove-wiki-gigaword-50', 'glove-wiki-gigaword-100', 'glove-wiki-gigaword-200', 'glove-wiki-gigaword-300', 'glove-twitter-25', 'glove-twitter-50', 'glove-twitter-100', 'glove-twitter-200', '__testing_word2vec-matrix-synopsis']\n"
     ]
    }
   ],
   "source": [
    "import gensim.downloader\n",
    "print(list(gensim.downloader.info()['models'].keys()))"
   ]
  },
  {
   "cell_type": "code",
   "execution_count": null,
   "id": "5a0c604c",
   "metadata": {
    "colab": {
     "base_uri": "https://localhost:8080/"
    },
    "id": "5a0c604c",
    "outputId": "f3b69dbb-a397-4173-f512-bbc8bf6ff707"
   },
   "outputs": [
    {
     "name": "stdout",
     "output_type": "stream",
     "text": [
      "[==================================================] 100.0% 376.1/376.1MB downloaded\n"
     ]
    },
    {
     "data": {
      "text/plain": [
       "<gensim.models.keyedvectors.Word2VecKeyedVectors at 0x7f2871d19710>"
      ]
     },
     "execution_count": 4,
     "metadata": {},
     "output_type": "execute_result"
    }
   ],
   "source": [
    "# gensim.downloader.load('glove-wiki-gigaword-300')"
   ]
  },
  {
   "cell_type": "code",
   "execution_count": null,
   "id": "gKzDeJx3bxOW",
   "metadata": {
    "id": "gKzDeJx3bxOW"
   },
   "outputs": [],
   "source": [
    "# gensim.downloader.load('word2vec-google-news-300')"
   ]
  },
  {
   "cell_type": "markdown",
   "id": "cd7d593e",
   "metadata": {
    "id": "cd7d593e"
   },
   "source": [
    "Metriques"
   ]
  },
  {
   "cell_type": "code",
   "execution_count": 7,
   "id": "96b32480",
   "metadata": {
    "id": "96b32480"
   },
   "outputs": [],
   "source": [
    "def getMetrics(model,name,X_test, y_test):\n",
    "    frames=[]\n",
    "    frame = pd.DataFrame()\n",
    "    y_pred = model.predict(X_test) \n",
    "    frame['estimator'] = [name]  \n",
    "    frame['accuracy'] = np.round((accuracy_score(y_test, y_pred)), 5)\n",
    "    frame['f1_macro'] = np.round(f1_score(y_test, y_pred, average=\"macro\"), 3)\n",
    "    frame['f1_micro'] = np.round(f1_score(y_test, y_pred, average=\"micro\"), 3)\n",
    "    frame['jaccard'] = np.round(jaccard_score(y_test, y_pred, average=\"weighted\"), 3)\n",
    "    frame['recall'] = np.round(recall_score(y_test, y_pred, average=\"weighted\"), 3)\n",
    "    frame['precision'] = np.round(precision_score(y_test, y_pred, average=\"weighted\"), 3)                            \n",
    "    frames.append(frame)\n",
    "    return pd.concat(frames) "
   ]
  },
  {
   "cell_type": "markdown",
   "id": "0d7f5a31",
   "metadata": {
    "id": "0d7f5a31"
   },
   "source": [
    "\n",
    "\n",
    "<a name='ap'></a>\n",
    "\n",
    "<div class=\"bg-primary text-lg-left text-white\">\n",
    "    <div >\n",
    "        <h1 class=\"text-center\" style=\"padding: 10px 0 10px 0;\">\n",
    "          approche classique\n",
    "        </h1>\n",
    "    </div>\n",
    "</div>"
   ]
  },
  {
   "cell_type": "code",
   "execution_count": 7,
   "id": "0bf236a4",
   "metadata": {
    "id": "0bf236a4"
   },
   "outputs": [],
   "source": [
    "import warnings\n",
    "warnings.filterwarnings('ignore', category=DeprecationWarning)"
   ]
  },
  {
   "cell_type": "code",
   "execution_count": 8,
   "id": "335d656d",
   "metadata": {
    "colab": {
     "base_uri": "https://localhost:8080/"
    },
    "id": "335d656d",
    "outputId": "0cd8f8c5-4204-4150-a2e5-44319ec5c684"
   },
   "outputs": [
    {
     "name": "stdout",
     "output_type": "stream",
     "text": [
      "(74960, 644) (18741, 644)\n"
     ]
    }
   ],
   "source": [
    "tfidf.fit(X_train['text'])\n",
    "feat_train = tfidf.transform(X_train['text'])\n",
    "feat_test = tfidf.transform(X_test['text'])\n",
    "print(feat_train.shape,feat_test.shape)"
   ]
  },
  {
   "cell_type": "code",
   "execution_count": null,
   "id": "13cfe485",
   "metadata": {
    "colab": {
     "base_uri": "https://localhost:8080/"
    },
    "id": "13cfe485",
    "outputId": "e2c54f33-51e6-45de-ff5f-6e37ed563bd4"
   },
   "outputs": [
    {
     "data": {
      "text/plain": [
       "RandomForestClassifier(n_estimators=50)"
      ]
     },
     "execution_count": 16,
     "metadata": {},
     "output_type": "execute_result"
    }
   ],
   "source": [
    "from sklearn.ensemble import RandomForestClassifier\n",
    "clf = RandomForestClassifier(n_estimators=50)\n",
    "clf.fit(feat_train[0:10000], y_train[0:10000])"
   ]
  },
  {
   "cell_type": "code",
   "execution_count": null,
   "id": "37c734bf",
   "metadata": {
    "colab": {
     "base_uri": "https://localhost:8080/",
     "height": 81
    },
    "id": "37c734bf",
    "outputId": "6f5960a0-cac5-40b0-d579-5dc43eb815e7"
   },
   "outputs": [
    {
     "data": {
      "text/html": [
       "\n",
       "  <div id=\"df-96a04d21-08eb-4ae1-a2d9-99771515c993\">\n",
       "    <div class=\"colab-df-container\">\n",
       "      <div>\n",
       "<style scoped>\n",
       "    .dataframe tbody tr th:only-of-type {\n",
       "        vertical-align: middle;\n",
       "    }\n",
       "\n",
       "    .dataframe tbody tr th {\n",
       "        vertical-align: top;\n",
       "    }\n",
       "\n",
       "    .dataframe thead th {\n",
       "        text-align: right;\n",
       "    }\n",
       "</style>\n",
       "<table border=\"1\" class=\"dataframe\">\n",
       "  <thead>\n",
       "    <tr style=\"text-align: right;\">\n",
       "      <th></th>\n",
       "      <th>estimator</th>\n",
       "      <th>accuracy</th>\n",
       "      <th>f1_macro</th>\n",
       "      <th>f1_micro</th>\n",
       "      <th>jaccard</th>\n",
       "      <th>recall</th>\n",
       "      <th>precision</th>\n",
       "    </tr>\n",
       "  </thead>\n",
       "  <tbody>\n",
       "    <tr>\n",
       "      <th>0</th>\n",
       "      <td>RandomForestClassifier</td>\n",
       "      <td>0.31498</td>\n",
       "      <td>0.392</td>\n",
       "      <td>0.528</td>\n",
       "      <td>0.357</td>\n",
       "      <td>0.38</td>\n",
       "      <td>0.86</td>\n",
       "    </tr>\n",
       "  </tbody>\n",
       "</table>\n",
       "</div>\n",
       "      <button class=\"colab-df-convert\" onclick=\"convertToInteractive('df-96a04d21-08eb-4ae1-a2d9-99771515c993')\"\n",
       "              title=\"Convert this dataframe to an interactive table.\"\n",
       "              style=\"display:none;\">\n",
       "        \n",
       "  <svg xmlns=\"http://www.w3.org/2000/svg\" height=\"24px\"viewBox=\"0 0 24 24\"\n",
       "       width=\"24px\">\n",
       "    <path d=\"M0 0h24v24H0V0z\" fill=\"none\"/>\n",
       "    <path d=\"M18.56 5.44l.94 2.06.94-2.06 2.06-.94-2.06-.94-.94-2.06-.94 2.06-2.06.94zm-11 1L8.5 8.5l.94-2.06 2.06-.94-2.06-.94L8.5 2.5l-.94 2.06-2.06.94zm10 10l.94 2.06.94-2.06 2.06-.94-2.06-.94-.94-2.06-.94 2.06-2.06.94z\"/><path d=\"M17.41 7.96l-1.37-1.37c-.4-.4-.92-.59-1.43-.59-.52 0-1.04.2-1.43.59L10.3 9.45l-7.72 7.72c-.78.78-.78 2.05 0 2.83L4 21.41c.39.39.9.59 1.41.59.51 0 1.02-.2 1.41-.59l7.78-7.78 2.81-2.81c.8-.78.8-2.07 0-2.86zM5.41 20L4 18.59l7.72-7.72 1.47 1.35L5.41 20z\"/>\n",
       "  </svg>\n",
       "      </button>\n",
       "      \n",
       "  <style>\n",
       "    .colab-df-container {\n",
       "      display:flex;\n",
       "      flex-wrap:wrap;\n",
       "      gap: 12px;\n",
       "    }\n",
       "\n",
       "    .colab-df-convert {\n",
       "      background-color: #E8F0FE;\n",
       "      border: none;\n",
       "      border-radius: 50%;\n",
       "      cursor: pointer;\n",
       "      display: none;\n",
       "      fill: #1967D2;\n",
       "      height: 32px;\n",
       "      padding: 0 0 0 0;\n",
       "      width: 32px;\n",
       "    }\n",
       "\n",
       "    .colab-df-convert:hover {\n",
       "      background-color: #E2EBFA;\n",
       "      box-shadow: 0px 1px 2px rgba(60, 64, 67, 0.3), 0px 1px 3px 1px rgba(60, 64, 67, 0.15);\n",
       "      fill: #174EA6;\n",
       "    }\n",
       "\n",
       "    [theme=dark] .colab-df-convert {\n",
       "      background-color: #3B4455;\n",
       "      fill: #D2E3FC;\n",
       "    }\n",
       "\n",
       "    [theme=dark] .colab-df-convert:hover {\n",
       "      background-color: #434B5C;\n",
       "      box-shadow: 0px 1px 3px 1px rgba(0, 0, 0, 0.15);\n",
       "      filter: drop-shadow(0px 1px 2px rgba(0, 0, 0, 0.3));\n",
       "      fill: #FFFFFF;\n",
       "    }\n",
       "  </style>\n",
       "\n",
       "      <script>\n",
       "        const buttonEl =\n",
       "          document.querySelector('#df-96a04d21-08eb-4ae1-a2d9-99771515c993 button.colab-df-convert');\n",
       "        buttonEl.style.display =\n",
       "          google.colab.kernel.accessAllowed ? 'block' : 'none';\n",
       "\n",
       "        async function convertToInteractive(key) {\n",
       "          const element = document.querySelector('#df-96a04d21-08eb-4ae1-a2d9-99771515c993');\n",
       "          const dataTable =\n",
       "            await google.colab.kernel.invokeFunction('convertToInteractive',\n",
       "                                                     [key], {});\n",
       "          if (!dataTable) return;\n",
       "\n",
       "          const docLinkHtml = 'Like what you see? Visit the ' +\n",
       "            '<a target=\"_blank\" href=https://colab.research.google.com/notebooks/data_table.ipynb>data table notebook</a>'\n",
       "            + ' to learn more about interactive tables.';\n",
       "          element.innerHTML = '';\n",
       "          dataTable['output_type'] = 'display_data';\n",
       "          await google.colab.output.renderOutput(dataTable, element);\n",
       "          const docLink = document.createElement('div');\n",
       "          docLink.innerHTML = docLinkHtml;\n",
       "          element.appendChild(docLink);\n",
       "        }\n",
       "      </script>\n",
       "    </div>\n",
       "  </div>\n",
       "  "
      ],
      "text/plain": [
       "                estimator  accuracy  f1_macro  f1_micro  jaccard  recall  \\\n",
       "0  RandomForestClassifier   0.31498     0.392     0.528    0.357    0.38   \n",
       "\n",
       "   precision  \n",
       "0       0.86  "
      ]
     },
     "execution_count": 18,
     "metadata": {},
     "output_type": "execute_result"
    }
   ],
   "source": [
    "getMetrics(clf,'RandomForestClassifier',feat_test, y_test)"
   ]
  },
  {
   "cell_type": "code",
   "execution_count": null,
   "id": "642eeb88",
   "metadata": {
    "colab": {
     "base_uri": "https://localhost:8080/"
    },
    "id": "642eeb88",
    "outputId": "888f525f-38fa-4462-b0e8-0723eb4e50e9"
   },
   "outputs": [
    {
     "data": {
      "text/plain": [
       "Pipeline(steps=[('test',\n",
       "                 OneVsRestClassifier(estimator=LogisticRegression(max_iter=500)))])"
      ]
     },
     "execution_count": 19,
     "metadata": {},
     "output_type": "execute_result"
    }
   ],
   "source": [
    "logistic =  Pipeline([\n",
    "    ('test',OneVsRestClassifier(LogisticRegression(max_iter=500))), \n",
    "])\n",
    "logistic.fit(feat_train, y_train)"
   ]
  },
  {
   "cell_type": "code",
   "execution_count": null,
   "id": "3a4a973f",
   "metadata": {
    "colab": {
     "base_uri": "https://localhost:8080/",
     "height": 81
    },
    "id": "3a4a973f",
    "outputId": "b12d2a5b-67c9-4dab-b740-5158952a924c"
   },
   "outputs": [
    {
     "data": {
      "text/html": [
       "\n",
       "  <div id=\"df-89b43ba1-c7c8-4870-9509-4280143aecab\">\n",
       "    <div class=\"colab-df-container\">\n",
       "      <div>\n",
       "<style scoped>\n",
       "    .dataframe tbody tr th:only-of-type {\n",
       "        vertical-align: middle;\n",
       "    }\n",
       "\n",
       "    .dataframe tbody tr th {\n",
       "        vertical-align: top;\n",
       "    }\n",
       "\n",
       "    .dataframe thead th {\n",
       "        text-align: right;\n",
       "    }\n",
       "</style>\n",
       "<table border=\"1\" class=\"dataframe\">\n",
       "  <thead>\n",
       "    <tr style=\"text-align: right;\">\n",
       "      <th></th>\n",
       "      <th>estimator</th>\n",
       "      <th>accuracy</th>\n",
       "      <th>f1_macro</th>\n",
       "      <th>f1_micro</th>\n",
       "      <th>jaccard</th>\n",
       "      <th>recall</th>\n",
       "      <th>precision</th>\n",
       "    </tr>\n",
       "  </thead>\n",
       "  <tbody>\n",
       "    <tr>\n",
       "      <th>0</th>\n",
       "      <td>logistic</td>\n",
       "      <td>0.32175</td>\n",
       "      <td>0.493</td>\n",
       "      <td>0.579</td>\n",
       "      <td>0.411</td>\n",
       "      <td>0.45</td>\n",
       "      <td>0.783</td>\n",
       "    </tr>\n",
       "  </tbody>\n",
       "</table>\n",
       "</div>\n",
       "      <button class=\"colab-df-convert\" onclick=\"convertToInteractive('df-89b43ba1-c7c8-4870-9509-4280143aecab')\"\n",
       "              title=\"Convert this dataframe to an interactive table.\"\n",
       "              style=\"display:none;\">\n",
       "        \n",
       "  <svg xmlns=\"http://www.w3.org/2000/svg\" height=\"24px\"viewBox=\"0 0 24 24\"\n",
       "       width=\"24px\">\n",
       "    <path d=\"M0 0h24v24H0V0z\" fill=\"none\"/>\n",
       "    <path d=\"M18.56 5.44l.94 2.06.94-2.06 2.06-.94-2.06-.94-.94-2.06-.94 2.06-2.06.94zm-11 1L8.5 8.5l.94-2.06 2.06-.94-2.06-.94L8.5 2.5l-.94 2.06-2.06.94zm10 10l.94 2.06.94-2.06 2.06-.94-2.06-.94-.94-2.06-.94 2.06-2.06.94z\"/><path d=\"M17.41 7.96l-1.37-1.37c-.4-.4-.92-.59-1.43-.59-.52 0-1.04.2-1.43.59L10.3 9.45l-7.72 7.72c-.78.78-.78 2.05 0 2.83L4 21.41c.39.39.9.59 1.41.59.51 0 1.02-.2 1.41-.59l7.78-7.78 2.81-2.81c.8-.78.8-2.07 0-2.86zM5.41 20L4 18.59l7.72-7.72 1.47 1.35L5.41 20z\"/>\n",
       "  </svg>\n",
       "      </button>\n",
       "      \n",
       "  <style>\n",
       "    .colab-df-container {\n",
       "      display:flex;\n",
       "      flex-wrap:wrap;\n",
       "      gap: 12px;\n",
       "    }\n",
       "\n",
       "    .colab-df-convert {\n",
       "      background-color: #E8F0FE;\n",
       "      border: none;\n",
       "      border-radius: 50%;\n",
       "      cursor: pointer;\n",
       "      display: none;\n",
       "      fill: #1967D2;\n",
       "      height: 32px;\n",
       "      padding: 0 0 0 0;\n",
       "      width: 32px;\n",
       "    }\n",
       "\n",
       "    .colab-df-convert:hover {\n",
       "      background-color: #E2EBFA;\n",
       "      box-shadow: 0px 1px 2px rgba(60, 64, 67, 0.3), 0px 1px 3px 1px rgba(60, 64, 67, 0.15);\n",
       "      fill: #174EA6;\n",
       "    }\n",
       "\n",
       "    [theme=dark] .colab-df-convert {\n",
       "      background-color: #3B4455;\n",
       "      fill: #D2E3FC;\n",
       "    }\n",
       "\n",
       "    [theme=dark] .colab-df-convert:hover {\n",
       "      background-color: #434B5C;\n",
       "      box-shadow: 0px 1px 3px 1px rgba(0, 0, 0, 0.15);\n",
       "      filter: drop-shadow(0px 1px 2px rgba(0, 0, 0, 0.3));\n",
       "      fill: #FFFFFF;\n",
       "    }\n",
       "  </style>\n",
       "\n",
       "      <script>\n",
       "        const buttonEl =\n",
       "          document.querySelector('#df-89b43ba1-c7c8-4870-9509-4280143aecab button.colab-df-convert');\n",
       "        buttonEl.style.display =\n",
       "          google.colab.kernel.accessAllowed ? 'block' : 'none';\n",
       "\n",
       "        async function convertToInteractive(key) {\n",
       "          const element = document.querySelector('#df-89b43ba1-c7c8-4870-9509-4280143aecab');\n",
       "          const dataTable =\n",
       "            await google.colab.kernel.invokeFunction('convertToInteractive',\n",
       "                                                     [key], {});\n",
       "          if (!dataTable) return;\n",
       "\n",
       "          const docLinkHtml = 'Like what you see? Visit the ' +\n",
       "            '<a target=\"_blank\" href=https://colab.research.google.com/notebooks/data_table.ipynb>data table notebook</a>'\n",
       "            + ' to learn more about interactive tables.';\n",
       "          element.innerHTML = '';\n",
       "          dataTable['output_type'] = 'display_data';\n",
       "          await google.colab.output.renderOutput(dataTable, element);\n",
       "          const docLink = document.createElement('div');\n",
       "          docLink.innerHTML = docLinkHtml;\n",
       "          element.appendChild(docLink);\n",
       "        }\n",
       "      </script>\n",
       "    </div>\n",
       "  </div>\n",
       "  "
      ],
      "text/plain": [
       "  estimator  accuracy  f1_macro  f1_micro  jaccard  recall  precision\n",
       "0  logistic   0.32175     0.493     0.579    0.411    0.45      0.783"
      ]
     },
     "execution_count": 20,
     "metadata": {},
     "output_type": "execute_result"
    }
   ],
   "source": [
    "getMetrics(logistic,'logistic',feat_test, y_test)"
   ]
  },
  {
   "cell_type": "markdown",
   "id": "f942c3fe",
   "metadata": {
    "id": "f942c3fe"
   },
   "source": [
    "tags list"
   ]
  },
  {
   "cell_type": "code",
   "execution_count": 10,
   "id": "AEHGhORzRlBd",
   "metadata": {
    "colab": {
     "base_uri": "https://localhost:8080/",
     "height": 311
    },
    "id": "AEHGhORzRlBd",
    "outputId": "5fc09e17-69c5-4df7-c305-29cbd6c0b846"
   },
   "outputs": [
    {
     "name": "stdout",
     "output_type": "stream",
     "text": [
      "Collecting gensim===4.1.1\n",
      "  Downloading gensim-4.1.1-cp37-cp37m-manylinux_2_12_x86_64.manylinux2010_x86_64.whl (24.1 MB)\n",
      "\u001b[K     |████████████████████████████████| 24.1 MB 1.5 MB/s \n",
      "\u001b[?25hRequirement already satisfied: numpy>=1.17.0 in /usr/local/lib/python3.7/dist-packages (from gensim===4.1.1) (1.21.5)\n",
      "Requirement already satisfied: scipy>=0.18.1 in /usr/local/lib/python3.7/dist-packages (from gensim===4.1.1) (1.4.1)\n",
      "Requirement already satisfied: smart-open>=1.8.1 in /usr/local/lib/python3.7/dist-packages (from gensim===4.1.1) (5.2.1)\n",
      "Installing collected packages: gensim\n",
      "  Attempting uninstall: gensim\n",
      "    Found existing installation: gensim 3.6.0\n",
      "    Uninstalling gensim-3.6.0:\n",
      "      Successfully uninstalled gensim-3.6.0\n",
      "Successfully installed gensim-4.1.1\n"
     ]
    },
    {
     "data": {
      "application/vnd.colab-display-data+json": {
       "pip_warning": {
        "packages": [
         "gensim"
        ]
       }
      }
     },
     "metadata": {},
     "output_type": "display_data"
    }
   ],
   "source": [
    "# !pip install  gensim===4.1.1"
   ]
  },
  {
   "cell_type": "markdown",
   "id": "SH8jidiR6Izv",
   "metadata": {
    "id": "SH8jidiR6Izv"
   },
   "source": [
    "\n",
    "  <a name='w2'></a>\n",
    "\n",
    "<div class=\"bg-primary text-lg-left text-white\">\n",
    "    <div >\n",
    "        <h1 class=\"text-center\" style=\"padding: 10px 0 10px 0;\">\n",
    "          Vectorisation de notre corpus\n",
    "        </h1>\n",
    "    </div>\n",
    "</div>"
   ]
  },
  {
   "cell_type": "markdown",
   "id": "456b76d5",
   "metadata": {},
   "source": [
    "\n",
    "\n",
    "Word2vec est un groupe de modèles utilisé pour le plongement lexica\n",
    "Word2vec est une sorte d’ACP non linéaire en ce sens qu’il réduit les dimensions\n",
    "word2vec est plus d’une ACP non linéaire car il prend en compte le contexte mais ne s’en éloigne pas tant que ce ça.\n",
    "\n",
    "Ce sont des réseaux de neurones artificiels à deux couches entraînés pour reconstruire le contexte linguistique des mots.\n",
    "\n",
    "\n",
    "Deux architectures ont été initialement proposées pour apprendre les Word2vec, le modèle de sacs de mots continus (CBOW: continuous bag of words) et le modèle skip-gram. Le CBOW vise à prédire un mot étant donné son contexte, c'est-à-dire étant donné les mots qui en sont proches dans le texte. Un tel contexte est par exemple les 5 mots à droite et les 5 mots à gauche du mot à prédire. Le skip-gram a une architecture symétrique visant à prédire les mots du contexte étant donné un mot en entrée.\n",
    "\n",
    "les modèles CBOW et Skip-gram de word2vec.\n",
    "\n",
    "En pratique, le modèle CBOW est plus rapide à apprendre, mais le modèle skip-gram donne généralement de meilleurs résultats.\n",
    "\n",
    "Dans les deux cas, le réseau de neurones comporte deux couches. La couche cachée contient quelques centaines de neurones et constitue, à l'issue de la représentation, le plongement lexical (embedding) permettant de représenter un mot. La couche de sortie permet d'implémenter une tâche de classification au moyen d'une softmax.\n",
    "\n",
    "L'apprentissage ne nécessite néanmoins aucun label, la vérité terrain étant directement déduite des données et plus particulièrement de la proximité des mots au sein du corpus d'entraînement. En ce sens, l'apprentissage de Word2vec constitue un apprentissage auto-supervisé."
   ]
  },
  {
   "cell_type": "code",
   "execution_count": 8,
   "id": "c36d39fb",
   "metadata": {
    "colab": {
     "base_uri": "https://localhost:8080/"
    },
    "id": "c36d39fb",
    "outputId": "babe3497-edfc-4227-c993-0c6a226af3b4"
   },
   "outputs": [
    {
     "data": {
      "text/plain": [
       "74960"
      ]
     },
     "execution_count": 8,
     "metadata": {},
     "output_type": "execute_result"
    }
   ],
   "source": [
    "import multiprocessing\n",
    "from gensim.models import Word2Vec\n",
    "\n",
    "\n",
    "model = Word2Vec(\n",
    "                X_train[\"text\"], \n",
    "                vector_size=300, \n",
    "                window=20,\n",
    "                min_count=2, \n",
    "                sample=6e-5, \n",
    "                alpha=0.03, \n",
    "                min_alpha=0.0007, \n",
    "                negative=20,                          \n",
    "\n",
    "                workers=7)\n",
    "\n",
    "\n",
    "\n",
    "model.corpus_count"
   ]
  },
  {
   "cell_type": "code",
   "execution_count": 9,
   "id": "uZhu0sj-TGz1",
   "metadata": {
    "colab": {
     "base_uri": "https://localhost:8080/"
    },
    "id": "uZhu0sj-TGz1",
    "outputId": "5a4f631e-1315-4895-920a-00a95dea94fe"
   },
   "outputs": [
    {
     "data": {
      "text/plain": [
       "5"
      ]
     },
     "execution_count": 9,
     "metadata": {},
     "output_type": "execute_result"
    }
   ],
   "source": [
    "model.epochs"
   ]
  },
  {
   "cell_type": "code",
   "execution_count": null,
   "id": "e7d70765",
   "metadata": {
    "colab": {
     "base_uri": "https://localhost:8080/"
    },
    "id": "e7d70765",
    "outputId": "9f0a9079-8384-4b56-9442-5fce13ac614f"
   },
   "outputs": [
    {
     "data": {
      "text/plain": [
       "(4610082, 11387685)"
      ]
     },
     "execution_count": 9,
     "metadata": {},
     "output_type": "execute_result"
    }
   ],
   "source": [
    "model.build_vocab(X_train['text'])\n",
    "# model.train(X_train['text'], total_examples=model.corpus_count, epochs=model.epochs, report_delay=1)\n",
    "model.train(X_train['text'], total_examples=model.corpus_count, epochs=30, report_delay=1)"
   ]
  },
  {
   "cell_type": "code",
   "execution_count": 10,
   "id": "eeede4f6",
   "metadata": {
    "colab": {
     "base_uri": "https://localhost:8080/"
    },
    "id": "eeede4f6",
    "outputId": "26b39a65-b78f-4ac4-ca60-aa2cce70507b"
   },
   "outputs": [
    {
     "data": {
      "text/plain": [
       "28409"
      ]
     },
     "execution_count": 10,
     "metadata": {},
     "output_type": "execute_result"
    }
   ],
   "source": [
    "len(model.wv)"
   ]
  },
  {
   "cell_type": "code",
   "execution_count": 11,
   "id": "88a0b0e8",
   "metadata": {
    "colab": {
     "base_uri": "https://localhost:8080/"
    },
    "id": "88a0b0e8",
    "outputId": "c6e6d92b-95bc-41e9-f0b5-42adfab45057"
   },
   "outputs": [
    {
     "data": {
      "text/plain": [
       "10701"
      ]
     },
     "execution_count": 11,
     "metadata": {},
     "output_type": "execute_result"
    }
   ],
   "source": [
    "model.wv.get_vecattr(\"java\", \"count\") "
   ]
  },
  {
   "cell_type": "code",
   "execution_count": 12,
   "id": "7659539f",
   "metadata": {
    "colab": {
     "base_uri": "https://localhost:8080/"
    },
    "id": "7659539f",
    "outputId": "f36aee1f-a323-4747-97f1-069208834815"
   },
   "outputs": [
    {
     "data": {
      "text/plain": [
       "5359"
      ]
     },
     "execution_count": 12,
     "metadata": {},
     "output_type": "execute_result"
    }
   ],
   "source": [
    "model.wv.get_vecattr(\"c#\", \"count\") "
   ]
  },
  {
   "cell_type": "code",
   "execution_count": 13,
   "id": "2677023f",
   "metadata": {
    "colab": {
     "base_uri": "https://localhost:8080/"
    },
    "id": "2677023f",
    "outputId": "cf8d2039-27a3-4ebe-8eb1-dd1fd0a47fc7"
   },
   "outputs": [
    {
     "data": {
      "text/plain": [
       "26"
      ]
     },
     "execution_count": 13,
     "metadata": {},
     "output_type": "execute_result"
    }
   ],
   "source": [
    "model.wv.key_to_index[\"java\"]"
   ]
  },
  {
   "cell_type": "markdown",
   "id": "61c518e6",
   "metadata": {},
   "source": [
    "Test de la vectorisation des mots"
   ]
  },
  {
   "cell_type": "code",
   "execution_count": 14,
   "id": "00567d1c",
   "metadata": {
    "colab": {
     "base_uri": "https://localhost:8080/"
    },
    "id": "00567d1c",
    "outputId": "d6ac7f28-e593-43b4-9d07-9ea647686db4"
   },
   "outputs": [
    {
     "data": {
      "text/plain": [
       "[('operating', 0.8517012596130371),\n",
       " ('arch', 0.8257924318313599),\n",
       " ('gnu', 0.8211150765419006),\n",
       " ('debian', 0.8118247985839844),\n",
       " ('bsd', 0.8115512132644653),\n",
       " ('os', 0.782404363155365),\n",
       " ('syscalls', 0.7822757363319397),\n",
       " ('glibc', 0.7794502973556519),\n",
       " ('ubuntu', 0.7740756273269653),\n",
       " ('nfs', 0.773507297039032)]"
      ]
     },
     "execution_count": 14,
     "metadata": {},
     "output_type": "execute_result"
    }
   ],
   "source": [
    "model.wv.most_similar(positive=[\"linux\"])"
   ]
  },
  {
   "cell_type": "code",
   "execution_count": 15,
   "id": "ae5a002b",
   "metadata": {
    "colab": {
     "base_uri": "https://localhost:8080/"
    },
    "id": "ae5a002b",
    "outputId": "6f31c6fa-a0dc-4bd1-f92e-712ce891e249"
   },
   "outputs": [
    {
     "data": {
      "text/plain": [
       "[('idea', 0.5939031839370728),\n",
       " ('exceed', 0.5400220155715942),\n",
       " ('pruning', 0.5215069055557251),\n",
       " ('die', 0.5203868746757507),\n",
       " ('wordlist', 0.5193285346031189),\n",
       " ('solution', 0.5140413045883179),\n",
       " ('anyone', 0.5125587582588196),\n",
       " ('tower', 0.5046101212501526),\n",
       " ('o(min(log', 0.5041437745094299),\n",
       " ('n(number', 0.5006166696548462)]"
      ]
     },
     "execution_count": 15,
     "metadata": {},
     "output_type": "execute_result"
    }
   ],
   "source": [
    "model.wv.most_similar(positive=[\"problem\"])"
   ]
  },
  {
   "cell_type": "code",
   "execution_count": 16,
   "id": "79e3cd03",
   "metadata": {
    "colab": {
     "base_uri": "https://localhost:8080/"
    },
    "id": "79e3cd03",
    "outputId": "158ea464-a5fc-4e0b-fb77-002ccb233c2d"
   },
   "outputs": [
    {
     "data": {
      "text/plain": [
       "[('ssms', 0.8773359060287476),\n",
       " ('mssql', 0.840709388256073),\n",
       " ('sp', 0.8260722756385803),\n",
       " ('dbms', 0.8226304054260254),\n",
       " ('ddl', 0.7937182188034058),\n",
       " ('query', 0.7922891974449158),\n",
       " ('procedure', 0.7903407216072083),\n",
       " ('resultset', 0.7863214612007141),\n",
       " ('subquery', 0.7855039238929749),\n",
       " ('varchar', 0.7833269238471985)]"
      ]
     },
     "execution_count": 16,
     "metadata": {},
     "output_type": "execute_result"
    }
   ],
   "source": [
    "model.wv.most_similar(positive=[\"sql\"])"
   ]
  },
  {
   "cell_type": "code",
   "execution_count": 17,
   "id": "79ef77bf",
   "metadata": {
    "colab": {
     "base_uri": "https://localhost:8080/"
    },
    "id": "79ef77bf",
    "outputId": "929a84f4-fc06-4836-9e5d-df91e747bb3b"
   },
   "outputs": [
    {
     "data": {
      "text/plain": [
       "[('db', 0.8428206443786621),\n",
       " ('oltp', 0.7693713307380676),\n",
       " ('rdbms', 0.7633110284805298),\n",
       " ('sql', 0.7512076497077942),\n",
       " ('nosql', 0.7313162684440613),\n",
       " ('dbms', 0.7286774516105652),\n",
       " ('record', 0.7282244563102722),\n",
       " ('phpmyadmin', 0.7086646556854248),\n",
       " ('mssql', 0.7073016166687012),\n",
       " ('mdb', 0.70614093542099)]"
      ]
     },
     "execution_count": 17,
     "metadata": {},
     "output_type": "execute_result"
    }
   ],
   "source": [
    "model.wv.most_similar(positive=[\"database\"])"
   ]
  },
  {
   "cell_type": "code",
   "execution_count": 18,
   "id": "c74a2347",
   "metadata": {
    "id": "c74a2347"
   },
   "outputs": [],
   "source": [
    "model.save('trainedOwnWords_word2vec.bin')"
   ]
  },
  {
   "cell_type": "markdown",
   "id": "66f5982f",
   "metadata": {
    "id": "66f5982f"
   },
   "source": [
    "**Les dix premières coordonnées du vecteur associé au mot java.**"
   ]
  },
  {
   "cell_type": "code",
   "execution_count": 19,
   "id": "63ef1bc4",
   "metadata": {
    "colab": {
     "base_uri": "https://localhost:8080/"
    },
    "id": "63ef1bc4",
    "outputId": "8a96b140-fe3a-452a-ba5b-be910dc99951",
    "scrolled": true
   },
   "outputs": [
    {
     "data": {
      "text/plain": [
       "((300,),\n",
       " array([-0.3831823 , -0.15032849, -0.59266686, -0.03302992,  1.5276675 ,\n",
       "        -0.82867527,  0.48077607,  0.6954574 ,  0.18765399, -0.59474945],\n",
       "       dtype=float32))"
      ]
     },
     "execution_count": 19,
     "metadata": {},
     "output_type": "execute_result"
    }
   ],
   "source": [
    "model.wv['php'].shape, model.wv['php'][:10]"
   ]
  },
  {
   "cell_type": "markdown",
   "id": "d1165b56",
   "metadata": {
    "id": "d1165b56"
   },
   "source": [
    "\n",
    "\n",
    "  <a name='cr'></a>\n",
    "\n",
    "<div class=\"bg-primary text-lg-left text-white\">\n",
    "    <div >\n",
    "        <h1 class=\"text-center\" style=\"padding: 10px 0 10px 0;\">\n",
    "          Creation des features word2vec\n",
    "        </h1>\n",
    "    </div>\n",
    "</div>\n",
    "\n",
    "\n",
    "\n",
    "\n",
    "### Pour chaque phrase, on fait la somme des vecteurs associés aux mots qui la composent ou pas si le mot n’est pas dans le vocabulaire"
   ]
  },
  {
   "cell_type": "code",
   "execution_count": 20,
   "id": "bfd71aad",
   "metadata": {
    "colab": {
     "base_uri": "https://localhost:8080/"
    },
    "id": "bfd71aad",
    "outputId": "438af51d-9718-4a1a-e597-bd53e525d988",
    "scrolled": false
   },
   "outputs": [
    {
     "data": {
      "text/plain": [
       "(74960, 300)"
      ]
     },
     "execution_count": 20,
     "metadata": {},
     "output_type": "execute_result"
    }
   ],
   "source": [
    "import numpy\n",
    "\n",
    "def get_vect(word, model):\n",
    "    try:\n",
    "        return model.wv[word]\n",
    "    except KeyError:\n",
    "        return numpy.zeros((model.vector_size,))\n",
    "\n",
    "def sum_vectors(phrase, model):\n",
    "    return sum(get_vect(w, model) for w in phrase)\n",
    "\n",
    "def word2vec_features(X, model):\n",
    "    feats = numpy.vstack([sum_vectors(p, model) for p in X])\n",
    "    return feats\n",
    "\n",
    "wv_train_feat = word2vec_features(X_train[\"text\"], model)\n",
    "wv_train_feat.shape"
   ]
  },
  {
   "cell_type": "code",
   "execution_count": 21,
   "id": "d419972c",
   "metadata": {
    "id": "d419972c"
   },
   "outputs": [],
   "source": [
    "wv_test_feat = word2vec_features(X_test[\"text\"], model)"
   ]
  },
  {
   "cell_type": "code",
   "execution_count": 22,
   "id": "760b7a06",
   "metadata": {
    "colab": {
     "base_uri": "https://localhost:8080/"
    },
    "id": "760b7a06",
    "outputId": "bb02773c-b1bf-4571-f111-8f51e4aca5af"
   },
   "outputs": [
    {
     "data": {
      "text/plain": [
       "(74960, 300)"
      ]
     },
     "execution_count": 22,
     "metadata": {},
     "output_type": "execute_result"
    }
   ],
   "source": [
    "wv_train_feat.shape"
   ]
  },
  {
   "cell_type": "code",
   "execution_count": 23,
   "id": "a0d27ae4",
   "metadata": {
    "colab": {
     "base_uri": "https://localhost:8080/"
    },
    "id": "a0d27ae4",
    "outputId": "19641827-d1c7-4538-c0cf-2dcb40a4030d"
   },
   "outputs": [
    {
     "data": {
      "text/plain": [
       "(18741, 300)"
      ]
     },
     "execution_count": 23,
     "metadata": {},
     "output_type": "execute_result"
    }
   ],
   "source": [
    "wv_test_feat.shape"
   ]
  },
  {
   "cell_type": "code",
   "execution_count": 24,
   "id": "87632b76",
   "metadata": {
    "colab": {
     "base_uri": "https://localhost:8080/"
    },
    "id": "87632b76",
    "outputId": "dd5fc3c2-32b1-40cf-cf18-0a07ff04accf"
   },
   "outputs": [
    {
     "data": {
      "text/plain": [
       "RandomForestClassifier()"
      ]
     },
     "execution_count": 24,
     "metadata": {},
     "output_type": "execute_result"
    }
   ],
   "source": [
    "from sklearn.ensemble import RandomForestClassifier\n",
    "clf = RandomForestClassifier()\n",
    "clf.fit(wv_train_feat[0:10000], y_train[0:10000])"
   ]
  },
  {
   "cell_type": "code",
   "execution_count": 25,
   "id": "cbe20827",
   "metadata": {
    "colab": {
     "base_uri": "https://localhost:8080/",
     "height": 81
    },
    "id": "cbe20827",
    "outputId": "6cc8fd0a-6a01-4c78-8381-356398e29774",
    "scrolled": true
   },
   "outputs": [
    {
     "data": {
      "text/html": [
       "\n",
       "  <div id=\"df-a13bb8ba-a237-45f8-8630-bd94b4ee69f2\">\n",
       "    <div class=\"colab-df-container\">\n",
       "      <div>\n",
       "<style scoped>\n",
       "    .dataframe tbody tr th:only-of-type {\n",
       "        vertical-align: middle;\n",
       "    }\n",
       "\n",
       "    .dataframe tbody tr th {\n",
       "        vertical-align: top;\n",
       "    }\n",
       "\n",
       "    .dataframe thead th {\n",
       "        text-align: right;\n",
       "    }\n",
       "</style>\n",
       "<table border=\"1\" class=\"dataframe\">\n",
       "  <thead>\n",
       "    <tr style=\"text-align: right;\">\n",
       "      <th></th>\n",
       "      <th>estimator</th>\n",
       "      <th>accuracy</th>\n",
       "      <th>f1_macro</th>\n",
       "      <th>f1_micro</th>\n",
       "      <th>jaccard</th>\n",
       "      <th>recall</th>\n",
       "      <th>precision</th>\n",
       "    </tr>\n",
       "  </thead>\n",
       "  <tbody>\n",
       "    <tr>\n",
       "      <th>0</th>\n",
       "      <td>RandomForestWV</td>\n",
       "      <td>0.19487</td>\n",
       "      <td>0.217</td>\n",
       "      <td>0.378</td>\n",
       "      <td>0.23</td>\n",
       "      <td>0.24</td>\n",
       "      <td>0.921</td>\n",
       "    </tr>\n",
       "  </tbody>\n",
       "</table>\n",
       "</div>\n",
       "      <button class=\"colab-df-convert\" onclick=\"convertToInteractive('df-a13bb8ba-a237-45f8-8630-bd94b4ee69f2')\"\n",
       "              title=\"Convert this dataframe to an interactive table.\"\n",
       "              style=\"display:none;\">\n",
       "        \n",
       "  <svg xmlns=\"http://www.w3.org/2000/svg\" height=\"24px\"viewBox=\"0 0 24 24\"\n",
       "       width=\"24px\">\n",
       "    <path d=\"M0 0h24v24H0V0z\" fill=\"none\"/>\n",
       "    <path d=\"M18.56 5.44l.94 2.06.94-2.06 2.06-.94-2.06-.94-.94-2.06-.94 2.06-2.06.94zm-11 1L8.5 8.5l.94-2.06 2.06-.94-2.06-.94L8.5 2.5l-.94 2.06-2.06.94zm10 10l.94 2.06.94-2.06 2.06-.94-2.06-.94-.94-2.06-.94 2.06-2.06.94z\"/><path d=\"M17.41 7.96l-1.37-1.37c-.4-.4-.92-.59-1.43-.59-.52 0-1.04.2-1.43.59L10.3 9.45l-7.72 7.72c-.78.78-.78 2.05 0 2.83L4 21.41c.39.39.9.59 1.41.59.51 0 1.02-.2 1.41-.59l7.78-7.78 2.81-2.81c.8-.78.8-2.07 0-2.86zM5.41 20L4 18.59l7.72-7.72 1.47 1.35L5.41 20z\"/>\n",
       "  </svg>\n",
       "      </button>\n",
       "      \n",
       "  <style>\n",
       "    .colab-df-container {\n",
       "      display:flex;\n",
       "      flex-wrap:wrap;\n",
       "      gap: 12px;\n",
       "    }\n",
       "\n",
       "    .colab-df-convert {\n",
       "      background-color: #E8F0FE;\n",
       "      border: none;\n",
       "      border-radius: 50%;\n",
       "      cursor: pointer;\n",
       "      display: none;\n",
       "      fill: #1967D2;\n",
       "      height: 32px;\n",
       "      padding: 0 0 0 0;\n",
       "      width: 32px;\n",
       "    }\n",
       "\n",
       "    .colab-df-convert:hover {\n",
       "      background-color: #E2EBFA;\n",
       "      box-shadow: 0px 1px 2px rgba(60, 64, 67, 0.3), 0px 1px 3px 1px rgba(60, 64, 67, 0.15);\n",
       "      fill: #174EA6;\n",
       "    }\n",
       "\n",
       "    [theme=dark] .colab-df-convert {\n",
       "      background-color: #3B4455;\n",
       "      fill: #D2E3FC;\n",
       "    }\n",
       "\n",
       "    [theme=dark] .colab-df-convert:hover {\n",
       "      background-color: #434B5C;\n",
       "      box-shadow: 0px 1px 3px 1px rgba(0, 0, 0, 0.15);\n",
       "      filter: drop-shadow(0px 1px 2px rgba(0, 0, 0, 0.3));\n",
       "      fill: #FFFFFF;\n",
       "    }\n",
       "  </style>\n",
       "\n",
       "      <script>\n",
       "        const buttonEl =\n",
       "          document.querySelector('#df-a13bb8ba-a237-45f8-8630-bd94b4ee69f2 button.colab-df-convert');\n",
       "        buttonEl.style.display =\n",
       "          google.colab.kernel.accessAllowed ? 'block' : 'none';\n",
       "\n",
       "        async function convertToInteractive(key) {\n",
       "          const element = document.querySelector('#df-a13bb8ba-a237-45f8-8630-bd94b4ee69f2');\n",
       "          const dataTable =\n",
       "            await google.colab.kernel.invokeFunction('convertToInteractive',\n",
       "                                                     [key], {});\n",
       "          if (!dataTable) return;\n",
       "\n",
       "          const docLinkHtml = 'Like what you see? Visit the ' +\n",
       "            '<a target=\"_blank\" href=https://colab.research.google.com/notebooks/data_table.ipynb>data table notebook</a>'\n",
       "            + ' to learn more about interactive tables.';\n",
       "          element.innerHTML = '';\n",
       "          dataTable['output_type'] = 'display_data';\n",
       "          await google.colab.output.renderOutput(dataTable, element);\n",
       "          const docLink = document.createElement('div');\n",
       "          docLink.innerHTML = docLinkHtml;\n",
       "          element.appendChild(docLink);\n",
       "        }\n",
       "      </script>\n",
       "    </div>\n",
       "  </div>\n",
       "  "
      ],
      "text/plain": [
       "        estimator  accuracy  f1_macro  f1_micro  jaccard  recall  precision\n",
       "0  RandomForestWV   0.19487     0.217     0.378     0.23    0.24      0.921"
      ]
     },
     "execution_count": 25,
     "metadata": {},
     "output_type": "execute_result"
    }
   ],
   "source": [
    "getMetrics(clf,'RandomForestWV',wv_test_feat, y_test)"
   ]
  },
  {
   "cell_type": "markdown",
   "id": "f488ad28",
   "metadata": {},
   "source": [
    "Notre modele Word2vec est legerement superieur au modele tf idf"
   ]
  },
  {
   "cell_type": "code",
   "execution_count": 27,
   "id": "bda7840a",
   "metadata": {
    "colab": {
     "base_uri": "https://localhost:8080/",
     "height": 81
    },
    "id": "bda7840a",
    "outputId": "553bc578-2ea3-4664-c12b-7571bebf9a95",
    "scrolled": true
   },
   "outputs": [
    {
     "data": {
      "text/html": [
       "\n",
       "  <div id=\"df-52000834-c010-4768-8901-94de73e2c85a\">\n",
       "    <div class=\"colab-df-container\">\n",
       "      <div>\n",
       "<style scoped>\n",
       "    .dataframe tbody tr th:only-of-type {\n",
       "        vertical-align: middle;\n",
       "    }\n",
       "\n",
       "    .dataframe tbody tr th {\n",
       "        vertical-align: top;\n",
       "    }\n",
       "\n",
       "    .dataframe thead th {\n",
       "        text-align: right;\n",
       "    }\n",
       "</style>\n",
       "<table border=\"1\" class=\"dataframe\">\n",
       "  <thead>\n",
       "    <tr style=\"text-align: right;\">\n",
       "      <th></th>\n",
       "      <th>estimator</th>\n",
       "      <th>accuracy</th>\n",
       "      <th>f1_macro</th>\n",
       "      <th>f1_micro</th>\n",
       "      <th>jaccard</th>\n",
       "      <th>recall</th>\n",
       "      <th>precision</th>\n",
       "    </tr>\n",
       "  </thead>\n",
       "  <tbody>\n",
       "    <tr>\n",
       "      <th>0</th>\n",
       "      <td>logisticWv</td>\n",
       "      <td>0.3575</td>\n",
       "      <td>0.514</td>\n",
       "      <td>0.622</td>\n",
       "      <td>0.456</td>\n",
       "      <td>0.504</td>\n",
       "      <td>0.779</td>\n",
       "    </tr>\n",
       "  </tbody>\n",
       "</table>\n",
       "</div>\n",
       "      <button class=\"colab-df-convert\" onclick=\"convertToInteractive('df-52000834-c010-4768-8901-94de73e2c85a')\"\n",
       "              title=\"Convert this dataframe to an interactive table.\"\n",
       "              style=\"display:none;\">\n",
       "        \n",
       "  <svg xmlns=\"http://www.w3.org/2000/svg\" height=\"24px\"viewBox=\"0 0 24 24\"\n",
       "       width=\"24px\">\n",
       "    <path d=\"M0 0h24v24H0V0z\" fill=\"none\"/>\n",
       "    <path d=\"M18.56 5.44l.94 2.06.94-2.06 2.06-.94-2.06-.94-.94-2.06-.94 2.06-2.06.94zm-11 1L8.5 8.5l.94-2.06 2.06-.94-2.06-.94L8.5 2.5l-.94 2.06-2.06.94zm10 10l.94 2.06.94-2.06 2.06-.94-2.06-.94-.94-2.06-.94 2.06-2.06.94z\"/><path d=\"M17.41 7.96l-1.37-1.37c-.4-.4-.92-.59-1.43-.59-.52 0-1.04.2-1.43.59L10.3 9.45l-7.72 7.72c-.78.78-.78 2.05 0 2.83L4 21.41c.39.39.9.59 1.41.59.51 0 1.02-.2 1.41-.59l7.78-7.78 2.81-2.81c.8-.78.8-2.07 0-2.86zM5.41 20L4 18.59l7.72-7.72 1.47 1.35L5.41 20z\"/>\n",
       "  </svg>\n",
       "      </button>\n",
       "      \n",
       "  <style>\n",
       "    .colab-df-container {\n",
       "      display:flex;\n",
       "      flex-wrap:wrap;\n",
       "      gap: 12px;\n",
       "    }\n",
       "\n",
       "    .colab-df-convert {\n",
       "      background-color: #E8F0FE;\n",
       "      border: none;\n",
       "      border-radius: 50%;\n",
       "      cursor: pointer;\n",
       "      display: none;\n",
       "      fill: #1967D2;\n",
       "      height: 32px;\n",
       "      padding: 0 0 0 0;\n",
       "      width: 32px;\n",
       "    }\n",
       "\n",
       "    .colab-df-convert:hover {\n",
       "      background-color: #E2EBFA;\n",
       "      box-shadow: 0px 1px 2px rgba(60, 64, 67, 0.3), 0px 1px 3px 1px rgba(60, 64, 67, 0.15);\n",
       "      fill: #174EA6;\n",
       "    }\n",
       "\n",
       "    [theme=dark] .colab-df-convert {\n",
       "      background-color: #3B4455;\n",
       "      fill: #D2E3FC;\n",
       "    }\n",
       "\n",
       "    [theme=dark] .colab-df-convert:hover {\n",
       "      background-color: #434B5C;\n",
       "      box-shadow: 0px 1px 3px 1px rgba(0, 0, 0, 0.15);\n",
       "      filter: drop-shadow(0px 1px 2px rgba(0, 0, 0, 0.3));\n",
       "      fill: #FFFFFF;\n",
       "    }\n",
       "  </style>\n",
       "\n",
       "      <script>\n",
       "        const buttonEl =\n",
       "          document.querySelector('#df-52000834-c010-4768-8901-94de73e2c85a button.colab-df-convert');\n",
       "        buttonEl.style.display =\n",
       "          google.colab.kernel.accessAllowed ? 'block' : 'none';\n",
       "\n",
       "        async function convertToInteractive(key) {\n",
       "          const element = document.querySelector('#df-52000834-c010-4768-8901-94de73e2c85a');\n",
       "          const dataTable =\n",
       "            await google.colab.kernel.invokeFunction('convertToInteractive',\n",
       "                                                     [key], {});\n",
       "          if (!dataTable) return;\n",
       "\n",
       "          const docLinkHtml = 'Like what you see? Visit the ' +\n",
       "            '<a target=\"_blank\" href=https://colab.research.google.com/notebooks/data_table.ipynb>data table notebook</a>'\n",
       "            + ' to learn more about interactive tables.';\n",
       "          element.innerHTML = '';\n",
       "          dataTable['output_type'] = 'display_data';\n",
       "          await google.colab.output.renderOutput(dataTable, element);\n",
       "          const docLink = document.createElement('div');\n",
       "          docLink.innerHTML = docLinkHtml;\n",
       "          element.appendChild(docLink);\n",
       "        }\n",
       "      </script>\n",
       "    </div>\n",
       "  </div>\n",
       "  "
      ],
      "text/plain": [
       "    estimator  accuracy  f1_macro  f1_micro  jaccard  recall  precision\n",
       "0  logisticWv    0.3575     0.514     0.622    0.456   0.504      0.779"
      ]
     },
     "execution_count": 27,
     "metadata": {},
     "output_type": "execute_result"
    }
   ],
   "source": [
    "logisticWv =  Pipeline([\n",
    "    #with word to vector \n",
    "    ('std',StandardScaler()),\n",
    "    ('test',OneVsRestClassifier(LogisticRegression(max_iter=1000))), \n",
    "])\n",
    "logisticWv.fit(wv_train_feat, y_train)\n",
    "getMetrics(logisticWv,'logisticWv',wv_test_feat, y_test)\n",
    "# logisticWv.score(wv_test_feat, y_test)"
   ]
  },
  {
   "cell_type": "code",
   "execution_count": 29,
   "id": "3b0ba254",
   "metadata": {
    "colab": {
     "base_uri": "https://localhost:8080/",
     "height": 81
    },
    "id": "3b0ba254",
    "outputId": "92841e11-e87f-4f57-ae44-c9486f9384b1",
    "scrolled": false
   },
   "outputs": [
    {
     "data": {
      "text/html": [
       "\n",
       "  <div id=\"df-492f95f4-b9e0-4058-9839-2c544adea81c\">\n",
       "    <div class=\"colab-df-container\">\n",
       "      <div>\n",
       "<style scoped>\n",
       "    .dataframe tbody tr th:only-of-type {\n",
       "        vertical-align: middle;\n",
       "    }\n",
       "\n",
       "    .dataframe tbody tr th {\n",
       "        vertical-align: top;\n",
       "    }\n",
       "\n",
       "    .dataframe thead th {\n",
       "        text-align: right;\n",
       "    }\n",
       "</style>\n",
       "<table border=\"1\" class=\"dataframe\">\n",
       "  <thead>\n",
       "    <tr style=\"text-align: right;\">\n",
       "      <th></th>\n",
       "      <th>estimator</th>\n",
       "      <th>accuracy</th>\n",
       "      <th>f1_macro</th>\n",
       "      <th>f1_micro</th>\n",
       "      <th>jaccard</th>\n",
       "      <th>recall</th>\n",
       "      <th>precision</th>\n",
       "    </tr>\n",
       "  </thead>\n",
       "  <tbody>\n",
       "    <tr>\n",
       "      <th>0</th>\n",
       "      <td>logisticTFIDF</td>\n",
       "      <td>0.34705</td>\n",
       "      <td>0.543</td>\n",
       "      <td>0.609</td>\n",
       "      <td>0.443</td>\n",
       "      <td>0.5</td>\n",
       "      <td>0.758</td>\n",
       "    </tr>\n",
       "  </tbody>\n",
       "</table>\n",
       "</div>\n",
       "      <button class=\"colab-df-convert\" onclick=\"convertToInteractive('df-492f95f4-b9e0-4058-9839-2c544adea81c')\"\n",
       "              title=\"Convert this dataframe to an interactive table.\"\n",
       "              style=\"display:none;\">\n",
       "        \n",
       "  <svg xmlns=\"http://www.w3.org/2000/svg\" height=\"24px\"viewBox=\"0 0 24 24\"\n",
       "       width=\"24px\">\n",
       "    <path d=\"M0 0h24v24H0V0z\" fill=\"none\"/>\n",
       "    <path d=\"M18.56 5.44l.94 2.06.94-2.06 2.06-.94-2.06-.94-.94-2.06-.94 2.06-2.06.94zm-11 1L8.5 8.5l.94-2.06 2.06-.94-2.06-.94L8.5 2.5l-.94 2.06-2.06.94zm10 10l.94 2.06.94-2.06 2.06-.94-2.06-.94-.94-2.06-.94 2.06-2.06.94z\"/><path d=\"M17.41 7.96l-1.37-1.37c-.4-.4-.92-.59-1.43-.59-.52 0-1.04.2-1.43.59L10.3 9.45l-7.72 7.72c-.78.78-.78 2.05 0 2.83L4 21.41c.39.39.9.59 1.41.59.51 0 1.02-.2 1.41-.59l7.78-7.78 2.81-2.81c.8-.78.8-2.07 0-2.86zM5.41 20L4 18.59l7.72-7.72 1.47 1.35L5.41 20z\"/>\n",
       "  </svg>\n",
       "      </button>\n",
       "      \n",
       "  <style>\n",
       "    .colab-df-container {\n",
       "      display:flex;\n",
       "      flex-wrap:wrap;\n",
       "      gap: 12px;\n",
       "    }\n",
       "\n",
       "    .colab-df-convert {\n",
       "      background-color: #E8F0FE;\n",
       "      border: none;\n",
       "      border-radius: 50%;\n",
       "      cursor: pointer;\n",
       "      display: none;\n",
       "      fill: #1967D2;\n",
       "      height: 32px;\n",
       "      padding: 0 0 0 0;\n",
       "      width: 32px;\n",
       "    }\n",
       "\n",
       "    .colab-df-convert:hover {\n",
       "      background-color: #E2EBFA;\n",
       "      box-shadow: 0px 1px 2px rgba(60, 64, 67, 0.3), 0px 1px 3px 1px rgba(60, 64, 67, 0.15);\n",
       "      fill: #174EA6;\n",
       "    }\n",
       "\n",
       "    [theme=dark] .colab-df-convert {\n",
       "      background-color: #3B4455;\n",
       "      fill: #D2E3FC;\n",
       "    }\n",
       "\n",
       "    [theme=dark] .colab-df-convert:hover {\n",
       "      background-color: #434B5C;\n",
       "      box-shadow: 0px 1px 3px 1px rgba(0, 0, 0, 0.15);\n",
       "      filter: drop-shadow(0px 1px 2px rgba(0, 0, 0, 0.3));\n",
       "      fill: #FFFFFF;\n",
       "    }\n",
       "  </style>\n",
       "\n",
       "      <script>\n",
       "        const buttonEl =\n",
       "          document.querySelector('#df-492f95f4-b9e0-4058-9839-2c544adea81c button.colab-df-convert');\n",
       "        buttonEl.style.display =\n",
       "          google.colab.kernel.accessAllowed ? 'block' : 'none';\n",
       "\n",
       "        async function convertToInteractive(key) {\n",
       "          const element = document.querySelector('#df-492f95f4-b9e0-4058-9839-2c544adea81c');\n",
       "          const dataTable =\n",
       "            await google.colab.kernel.invokeFunction('convertToInteractive',\n",
       "                                                     [key], {});\n",
       "          if (!dataTable) return;\n",
       "\n",
       "          const docLinkHtml = 'Like what you see? Visit the ' +\n",
       "            '<a target=\"_blank\" href=https://colab.research.google.com/notebooks/data_table.ipynb>data table notebook</a>'\n",
       "            + ' to learn more about interactive tables.';\n",
       "          element.innerHTML = '';\n",
       "          dataTable['output_type'] = 'display_data';\n",
       "          await google.colab.output.renderOutput(dataTable, element);\n",
       "          const docLink = document.createElement('div');\n",
       "          docLink.innerHTML = docLinkHtml;\n",
       "          element.appendChild(docLink);\n",
       "        }\n",
       "      </script>\n",
       "    </div>\n",
       "  </div>\n",
       "  "
      ],
      "text/plain": [
       "       estimator  accuracy  f1_macro  f1_micro  jaccard  recall  precision\n",
       "0  logisticTFIDF   0.34705     0.543     0.609    0.443     0.5      0.758"
      ]
     },
     "execution_count": 29,
     "metadata": {},
     "output_type": "execute_result"
    }
   ],
   "source": [
    "logisticTFidf =  Pipeline([\n",
    "    #with tf idf        \n",
    "    ('tfidf', tfidf),\n",
    "    ('std',StandardScaler(with_mean=False)),\n",
    "    ('test',OneVsRestClassifier(LogisticRegression(max_iter=500))), \n",
    "])\n",
    "logisticTFidf.fit(X_train['text'], y_train)\n",
    "getMetrics(logisticTFidf,'logisticTFIDF',X_test['text'], y_test)\n",
    "# logisticWv.score(X_test['text'], y_test)"
   ]
  },
  {
   "cell_type": "markdown",
   "id": "3b879a92",
   "metadata": {
    "id": "3b879a92"
   },
   "source": [
    "<a name='go'></a>\n",
    "\n",
    "<div class=\"bg-primary text-lg-left text-white\">\n",
    "    <div >\n",
    "        <h1 class=\"text-center\" style=\"padding: 10px 0 10px 0;\">\n",
    "          intersection entre le vocab google news externe et notre vocab\n",
    "        </h1>\n",
    "    </div>\n",
    "</div>\n"
   ]
  },
  {
   "cell_type": "markdown",
   "id": "c52b11a6",
   "metadata": {},
   "source": [
    "Nous allons encore essayer d ameliorer notre modele en y integrant d dautre vocab glaner sur internet\n",
    "\n",
    "- googleNEws\n",
    "- wikipedia\n",
    "- conceptnet\n",
    "\n",
    "ces vocab seront 'mixer' avec notre propre modele word2vec, nous lancerons ensuite un entrainement pour comparer les resultats"
   ]
  },
  {
   "cell_type": "code",
   "execution_count": null,
   "id": "nAkzI7o6bp-Y",
   "metadata": {
    "colab": {
     "base_uri": "https://localhost:8080/"
    },
    "id": "nAkzI7o6bp-Y",
    "outputId": "757a78e0-beea-402c-b488-ee10d8954e0e"
   },
   "outputs": [
    {
     "name": "stdout",
     "output_type": "stream",
     "text": [
      "[==================================================] 100.0% 1662.8/1662.8MB downloaded\n"
     ]
    },
    {
     "data": {
      "text/plain": [
       "<gensim.models.keyedvectors.KeyedVectors at 0x7f6623138dd0>"
      ]
     },
     "execution_count": 33,
     "metadata": {},
     "output_type": "execute_result"
    }
   ],
   "source": [
    "# import gensim.downloader\n",
    "# gensim.downloader.load('word2vec-google-news-300')\n"
   ]
  },
  {
   "cell_type": "code",
   "execution_count": 30,
   "id": "5370e91e",
   "metadata": {
    "id": "5370e91e"
   },
   "outputs": [],
   "source": [
    "from gensim.models import Word2Vec, Phrases, phrases, KeyedVectors"
   ]
  },
  {
   "cell_type": "code",
   "execution_count": null,
   "id": "3ff7ff93",
   "metadata": {
    "id": "3ff7ff93"
   },
   "outputs": [],
   "source": [
    "# google_wv = gensim.models.KeyedVectors.load_word2vec_format('wv_googlenews/GoogleNews-vectors-negative300.bin.gz', binary=True)"
   ]
  },
  {
   "cell_type": "code",
   "execution_count": 31,
   "id": "mC9aOFB_eHZ9",
   "metadata": {
    "id": "mC9aOFB_eHZ9"
   },
   "outputs": [],
   "source": [
    "google_wv = gensim.models.KeyedVectors.load_word2vec_format('/content/ShardDrives/MyDrive/nlp/GoogleNews-vectors-negative300.bin.gz', binary=True)"
   ]
  },
  {
   "cell_type": "code",
   "execution_count": null,
   "id": "58bae129",
   "metadata": {
    "id": "58bae129",
    "scrolled": false
   },
   "outputs": [],
   "source": [
    "# google_wv.key_to_index.keys"
   ]
  },
  {
   "cell_type": "code",
   "execution_count": 32,
   "id": "9feec8a0",
   "metadata": {
    "id": "9feec8a0"
   },
   "outputs": [],
   "source": [
    "modelGoogle = gensim.models.Word2Vec(\n",
    "                X_train[\"text\"], \n",
    "                vector_size=300, \n",
    "                window=20,\n",
    "                min_count=2, \n",
    "                sample=6e-5, \n",
    "                alpha=0.03, \n",
    "                min_alpha=0.0007, \n",
    "                negative=20,                                                    \n",
    "                workers=7)\n",
    "modelGoogle.build_vocab(X_train['text'])"
   ]
  },
  {
   "cell_type": "code",
   "execution_count": 33,
   "id": "4aefe637",
   "metadata": {
    "colab": {
     "base_uri": "https://localhost:8080/"
    },
    "id": "4aefe637",
    "outputId": "7bb8846d-8635-4589-b4e1-3f48a3629821"
   },
   "outputs": [
    {
     "data": {
      "text/plain": [
       "74960"
      ]
     },
     "execution_count": 33,
     "metadata": {},
     "output_type": "execute_result"
    }
   ],
   "source": [
    "training_examples_count = modelGoogle.corpus_count\n",
    "training_examples_count"
   ]
  },
  {
   "cell_type": "code",
   "execution_count": 35,
   "id": "40dfbd58",
   "metadata": {
    "colab": {
     "base_uri": "https://localhost:8080/"
    },
    "id": "40dfbd58",
    "outputId": "3211d19a-ab36-4910-fa60-d965a7a0c2d9"
   },
   "outputs": [
    {
     "data": {
      "text/plain": [
       "5"
      ]
     },
     "execution_count": 35,
     "metadata": {},
     "output_type": "execute_result"
    }
   ],
   "source": [
    "modelGoogle.epochs"
   ]
  },
  {
   "cell_type": "code",
   "execution_count": 34,
   "id": "453e41ab",
   "metadata": {
    "id": "453e41ab"
   },
   "outputs": [],
   "source": [
    "modelGoogle.wv.vectors_lockf = np.ones(len(modelGoogle.wv))"
   ]
  },
  {
   "cell_type": "code",
   "execution_count": 36,
   "id": "0b6aad1a",
   "metadata": {
    "id": "0b6aad1a"
   },
   "outputs": [],
   "source": [
    "modelGoogle.build_vocab([google_wv.key_to_index], update=True)\n",
    "modelGoogle.wv.intersect_word2vec_format(\"/content/ShardDrives/MyDrive/nlp/GoogleNews-vectors-negative300.bin.gz\",binary=True, lockf=1.0)"
   ]
  },
  {
   "cell_type": "code",
   "execution_count": 37,
   "id": "9af40feb",
   "metadata": {
    "colab": {
     "base_uri": "https://localhost:8080/"
    },
    "id": "9af40feb",
    "outputId": "7f38ae50-3178-4e62-d96d-dacedc8b9a09",
    "scrolled": true
   },
   "outputs": [
    {
     "data": {
      "text/plain": [
       "[('osx', 0.7418608665466309),\n",
       " ('unix', 0.7179777026176453),\n",
       " ('filesystems', 0.6992602348327637),\n",
       " ('distro', 0.6973377466201782),\n",
       " ('slackware', 0.6968764662742615),\n",
       " ('distros', 0.6949489116668701),\n",
       " ('debian', 0.6920150518417358),\n",
       " ('mysql', 0.6869272589683533),\n",
       " ('kde', 0.6766390800476074),\n",
       " ('opensource', 0.6727070212364197)]"
      ]
     },
     "execution_count": 37,
     "metadata": {},
     "output_type": "execute_result"
    }
   ],
   "source": [
    "modelGoogle.wv.most_similar(positive=[\"linux\"])"
   ]
  },
  {
   "cell_type": "code",
   "execution_count": 38,
   "id": "30145fb7",
   "metadata": {
    "colab": {
     "base_uri": "https://localhost:8080/"
    },
    "id": "30145fb7",
    "outputId": "15f18ffb-3093-4de8-d6c6-59d44e292679",
    "scrolled": true
   },
   "outputs": [
    {
     "data": {
      "text/plain": [
       "(4613421, 11387685)"
      ]
     },
     "execution_count": 38,
     "metadata": {},
     "output_type": "execute_result"
    }
   ],
   "source": [
    "modelGoogle.train(X_train['text'],total_examples=training_examples_count, epochs=model.epochs)"
   ]
  },
  {
   "cell_type": "markdown",
   "id": "5e3819be",
   "metadata": {},
   "source": [
    "On constate que nos motes on des positionnement differents que notre propre modele"
   ]
  },
  {
   "cell_type": "code",
   "execution_count": 39,
   "id": "cb9f26d3",
   "metadata": {
    "colab": {
     "base_uri": "https://localhost:8080/"
    },
    "id": "cb9f26d3",
    "outputId": "ba8be878-cdea-456b-edd1-f4120edf9b58",
    "scrolled": true
   },
   "outputs": [
    {
     "data": {
      "text/plain": [
       "[('mint', 0.6779086589813232),\n",
       " ('arch', 0.6735519766807556),\n",
       " ('gnu', 0.6692314147949219),\n",
       " ('kernel', 0.6555151343345642),\n",
       " ('bsd', 0.644873321056366),\n",
       " ('unix', 0.6314297914505005),\n",
       " ('machine', 0.623516321182251),\n",
       " ('redhat', 0.6137810945510864),\n",
       " ('syscalls', 0.6130386590957642),\n",
       " ('distro', 0.6115866899490356)]"
      ]
     },
     "execution_count": 39,
     "metadata": {},
     "output_type": "execute_result"
    }
   ],
   "source": [
    "modelGoogle.wv.most_similar(positive=[\"linux\"])"
   ]
  },
  {
   "cell_type": "code",
   "execution_count": 42,
   "id": "8c34fa25",
   "metadata": {
    "colab": {
     "base_uri": "https://localhost:8080/"
    },
    "id": "8c34fa25",
    "outputId": "19089529-fc9d-4db9-af71-cad7189cd693",
    "scrolled": true
   },
   "outputs": [
    {
     "data": {
      "text/plain": [
       "[('vb', 0.8536680340766907),\n",
       " ('vbnet', 0.8349421620368958),\n",
       " ('msdn', 0.7928580641746521),\n",
       " ('net', 0.7539410591125488),\n",
       " ('ilspy', 0.7443284392356873),\n",
       " ('clr', 0.7141795754432678),\n",
       " ('il', 0.708362340927124),\n",
       " ('roslyn', 0.6944793462753296),\n",
       " ('skeet', 0.6742131114006042),\n",
       " ('c#net', 0.6717705130577087)]"
      ]
     },
     "execution_count": 42,
     "metadata": {},
     "output_type": "execute_result"
    }
   ],
   "source": [
    "model.wv.most_similar(positive=[\"c#\"])"
   ]
  },
  {
   "cell_type": "code",
   "execution_count": 44,
   "id": "FBv08TfrvIcD",
   "metadata": {
    "colab": {
     "base_uri": "https://localhost:8080/"
    },
    "id": "FBv08TfrvIcD",
    "outputId": "f1f0e0a1-51d9-40ff-bb3a-ddda21b39db9"
   },
   "outputs": [
    {
     "data": {
      "text/plain": [
       "[('db', 0.8428206443786621),\n",
       " ('oltp', 0.7693713307380676),\n",
       " ('rdbms', 0.7633110284805298),\n",
       " ('sql', 0.7512076497077942),\n",
       " ('nosql', 0.7313162684440613),\n",
       " ('dbms', 0.7286774516105652),\n",
       " ('record', 0.7282244563102722),\n",
       " ('phpmyadmin', 0.7086646556854248),\n",
       " ('mssql', 0.7073016166687012),\n",
       " ('mdb', 0.70614093542099)]"
      ]
     },
     "execution_count": 44,
     "metadata": {},
     "output_type": "execute_result"
    }
   ],
   "source": [
    "model.wv.most_similar(positive=[\"database\"])"
   ]
  },
  {
   "cell_type": "code",
   "execution_count": 46,
   "id": "e373638a",
   "metadata": {
    "colab": {
     "base_uri": "https://localhost:8080/"
    },
    "id": "e373638a",
    "outputId": "a3df3af7-0a8a-4aae-95da-c9fd89d7a41c"
   },
   "outputs": [
    {
     "data": {
      "text/plain": [
       "(74960, 300)"
      ]
     },
     "execution_count": 46,
     "metadata": {},
     "output_type": "execute_result"
    }
   ],
   "source": [
    "import numpy\n",
    "\n",
    "def get_vect(word, model):\n",
    "    try:\n",
    "        return model.wv[word]\n",
    "    except KeyError:\n",
    "        return numpy.zeros((model.vector_size,))\n",
    "\n",
    "def sum_vectors(phrase, model):\n",
    "    return sum(get_vect(w, model) for w in phrase)\n",
    "\n",
    "def word2vec_features(X, model):\n",
    "    feats = numpy.vstack([sum_vectors(p, model) for p in X])\n",
    "    return feats\n",
    "\n",
    "wv_train_feat2 = word2vec_features(X_train[\"text\"], modelGoogle)\n",
    "wv_train_feat2.shape"
   ]
  },
  {
   "cell_type": "code",
   "execution_count": 47,
   "id": "fec20dc1",
   "metadata": {
    "colab": {
     "base_uri": "https://localhost:8080/"
    },
    "id": "fec20dc1",
    "outputId": "3c514d6b-e650-4325-840b-f80e990ca1ed"
   },
   "outputs": [
    {
     "data": {
      "text/plain": [
       "(18741, 300)"
      ]
     },
     "execution_count": 47,
     "metadata": {},
     "output_type": "execute_result"
    }
   ],
   "source": [
    "wv_test_feat2 = word2vec_features(X_test[\"text\"], modelGoogle)\n",
    "wv_test_feat2.shape"
   ]
  },
  {
   "cell_type": "code",
   "execution_count": 48,
   "id": "adbd7da0",
   "metadata": {
    "colab": {
     "base_uri": "https://localhost:8080/",
     "height": 81
    },
    "id": "adbd7da0",
    "outputId": "5890c110-33e6-440a-c9dc-8750e2a2546f",
    "scrolled": false
   },
   "outputs": [
    {
     "data": {
      "text/html": [
       "\n",
       "  <div id=\"df-e9e7dc29-bb7c-414e-8bd9-1384ac0fc854\">\n",
       "    <div class=\"colab-df-container\">\n",
       "      <div>\n",
       "<style scoped>\n",
       "    .dataframe tbody tr th:only-of-type {\n",
       "        vertical-align: middle;\n",
       "    }\n",
       "\n",
       "    .dataframe tbody tr th {\n",
       "        vertical-align: top;\n",
       "    }\n",
       "\n",
       "    .dataframe thead th {\n",
       "        text-align: right;\n",
       "    }\n",
       "</style>\n",
       "<table border=\"1\" class=\"dataframe\">\n",
       "  <thead>\n",
       "    <tr style=\"text-align: right;\">\n",
       "      <th></th>\n",
       "      <th>estimator</th>\n",
       "      <th>accuracy</th>\n",
       "      <th>f1_macro</th>\n",
       "      <th>f1_micro</th>\n",
       "      <th>jaccard</th>\n",
       "      <th>recall</th>\n",
       "      <th>precision</th>\n",
       "    </tr>\n",
       "  </thead>\n",
       "  <tbody>\n",
       "    <tr>\n",
       "      <th>0</th>\n",
       "      <td>logisticWv_google</td>\n",
       "      <td>0.31199</td>\n",
       "      <td>0.463</td>\n",
       "      <td>0.572</td>\n",
       "      <td>0.405</td>\n",
       "      <td>0.447</td>\n",
       "      <td>0.76</td>\n",
       "    </tr>\n",
       "  </tbody>\n",
       "</table>\n",
       "</div>\n",
       "      <button class=\"colab-df-convert\" onclick=\"convertToInteractive('df-e9e7dc29-bb7c-414e-8bd9-1384ac0fc854')\"\n",
       "              title=\"Convert this dataframe to an interactive table.\"\n",
       "              style=\"display:none;\">\n",
       "        \n",
       "  <svg xmlns=\"http://www.w3.org/2000/svg\" height=\"24px\"viewBox=\"0 0 24 24\"\n",
       "       width=\"24px\">\n",
       "    <path d=\"M0 0h24v24H0V0z\" fill=\"none\"/>\n",
       "    <path d=\"M18.56 5.44l.94 2.06.94-2.06 2.06-.94-2.06-.94-.94-2.06-.94 2.06-2.06.94zm-11 1L8.5 8.5l.94-2.06 2.06-.94-2.06-.94L8.5 2.5l-.94 2.06-2.06.94zm10 10l.94 2.06.94-2.06 2.06-.94-2.06-.94-.94-2.06-.94 2.06-2.06.94z\"/><path d=\"M17.41 7.96l-1.37-1.37c-.4-.4-.92-.59-1.43-.59-.52 0-1.04.2-1.43.59L10.3 9.45l-7.72 7.72c-.78.78-.78 2.05 0 2.83L4 21.41c.39.39.9.59 1.41.59.51 0 1.02-.2 1.41-.59l7.78-7.78 2.81-2.81c.8-.78.8-2.07 0-2.86zM5.41 20L4 18.59l7.72-7.72 1.47 1.35L5.41 20z\"/>\n",
       "  </svg>\n",
       "      </button>\n",
       "      \n",
       "  <style>\n",
       "    .colab-df-container {\n",
       "      display:flex;\n",
       "      flex-wrap:wrap;\n",
       "      gap: 12px;\n",
       "    }\n",
       "\n",
       "    .colab-df-convert {\n",
       "      background-color: #E8F0FE;\n",
       "      border: none;\n",
       "      border-radius: 50%;\n",
       "      cursor: pointer;\n",
       "      display: none;\n",
       "      fill: #1967D2;\n",
       "      height: 32px;\n",
       "      padding: 0 0 0 0;\n",
       "      width: 32px;\n",
       "    }\n",
       "\n",
       "    .colab-df-convert:hover {\n",
       "      background-color: #E2EBFA;\n",
       "      box-shadow: 0px 1px 2px rgba(60, 64, 67, 0.3), 0px 1px 3px 1px rgba(60, 64, 67, 0.15);\n",
       "      fill: #174EA6;\n",
       "    }\n",
       "\n",
       "    [theme=dark] .colab-df-convert {\n",
       "      background-color: #3B4455;\n",
       "      fill: #D2E3FC;\n",
       "    }\n",
       "\n",
       "    [theme=dark] .colab-df-convert:hover {\n",
       "      background-color: #434B5C;\n",
       "      box-shadow: 0px 1px 3px 1px rgba(0, 0, 0, 0.15);\n",
       "      filter: drop-shadow(0px 1px 2px rgba(0, 0, 0, 0.3));\n",
       "      fill: #FFFFFF;\n",
       "    }\n",
       "  </style>\n",
       "\n",
       "      <script>\n",
       "        const buttonEl =\n",
       "          document.querySelector('#df-e9e7dc29-bb7c-414e-8bd9-1384ac0fc854 button.colab-df-convert');\n",
       "        buttonEl.style.display =\n",
       "          google.colab.kernel.accessAllowed ? 'block' : 'none';\n",
       "\n",
       "        async function convertToInteractive(key) {\n",
       "          const element = document.querySelector('#df-e9e7dc29-bb7c-414e-8bd9-1384ac0fc854');\n",
       "          const dataTable =\n",
       "            await google.colab.kernel.invokeFunction('convertToInteractive',\n",
       "                                                     [key], {});\n",
       "          if (!dataTable) return;\n",
       "\n",
       "          const docLinkHtml = 'Like what you see? Visit the ' +\n",
       "            '<a target=\"_blank\" href=https://colab.research.google.com/notebooks/data_table.ipynb>data table notebook</a>'\n",
       "            + ' to learn more about interactive tables.';\n",
       "          element.innerHTML = '';\n",
       "          dataTable['output_type'] = 'display_data';\n",
       "          await google.colab.output.renderOutput(dataTable, element);\n",
       "          const docLink = document.createElement('div');\n",
       "          docLink.innerHTML = docLinkHtml;\n",
       "          element.appendChild(docLink);\n",
       "        }\n",
       "      </script>\n",
       "    </div>\n",
       "  </div>\n",
       "  "
      ],
      "text/plain": [
       "           estimator  accuracy  f1_macro  f1_micro  jaccard  recall  precision\n",
       "0  logisticWv_google   0.31199     0.463     0.572    0.405   0.447       0.76"
      ]
     },
     "execution_count": 48,
     "metadata": {},
     "output_type": "execute_result"
    }
   ],
   "source": [
    "\n",
    "logisticWv_google =  Pipeline([\n",
    "    #with word to vectorS\n",
    "    ('std',StandardScaler()),\n",
    "    ('test',OneVsRestClassifier(LogisticRegression(max_iter=1000))), \n",
    "])\n",
    "logisticWv_google.fit(wv_train_feat2, y_train)\n",
    "getMetrics(logisticWv_google,'logisticWv_google',wv_test_feat2, y_test)\n",
    "# logisticWv.score(wv_test_feat3[0:100000], y_test[0:100000])"
   ]
  },
  {
   "cell_type": "markdown",
   "id": "5b5ae06d",
   "metadata": {},
   "source": [
    "resultat moins performant "
   ]
  },
  {
   "cell_type": "markdown",
   "id": "4300f464",
   "metadata": {
    "id": "4300f464"
   },
   "source": [
    "\n",
    "\n",
    "<a name='wi'></a>\n",
    "\n",
    "<div class=\"bg-primary text-lg-left text-white\">\n",
    "    <div >\n",
    "        <h1 class=\"text-center\" style=\"padding: 10px 0 10px 0;\">\n",
    "           intersection entre le vocab wikipedia externe et notre vocab\n",
    "        </h1>\n",
    "    </div>\n",
    "</div>"
   ]
  },
  {
   "cell_type": "code",
   "execution_count": null,
   "id": "8d8c8bc8",
   "metadata": {
    "id": "8d8c8bc8"
   },
   "outputs": [],
   "source": [
    "from gensim.models import Word2Vec, Phrases, phrases, KeyedVectors"
   ]
  },
  {
   "cell_type": "code",
   "execution_count": 49,
   "id": "b5893ead",
   "metadata": {
    "id": "b5893ead"
   },
   "outputs": [],
   "source": [
    "wikipedia_wv = gensim.models.KeyedVectors.load_word2vec_format('/content/ShardDrives/MyDrive/nlp/glove-wiki-gigaword-300.gz')"
   ]
  },
  {
   "cell_type": "code",
   "execution_count": null,
   "id": "3feb14d4",
   "metadata": {
    "id": "3feb14d4",
    "scrolled": false
   },
   "outputs": [],
   "source": [
    "# google_wv.key_to_index.keys"
   ]
  },
  {
   "cell_type": "code",
   "execution_count": 50,
   "id": "b452a27e",
   "metadata": {
    "id": "b452a27e"
   },
   "outputs": [],
   "source": [
    "modelWikipedia = gensim.models.Word2Vec(\n",
    "                X_train[\"text\"], \n",
    "                vector_size=300, \n",
    "                window=20,\n",
    "                min_count=2, \n",
    "                sample=6e-5, \n",
    "                alpha=0.03, \n",
    "                min_alpha=0.0007, \n",
    "                negative=20,                                                    \n",
    "                workers=7)\n",
    "modelWikipedia.build_vocab(X_train['text'])"
   ]
  },
  {
   "cell_type": "code",
   "execution_count": 51,
   "id": "111732b6",
   "metadata": {
    "colab": {
     "base_uri": "https://localhost:8080/"
    },
    "id": "111732b6",
    "outputId": "3bfcffd2-83b4-4959-e10b-dc706782239c"
   },
   "outputs": [
    {
     "data": {
      "text/plain": [
       "74960"
      ]
     },
     "execution_count": 51,
     "metadata": {},
     "output_type": "execute_result"
    }
   ],
   "source": [
    "training_examples_count = modelWikipedia.corpus_count\n",
    "training_examples_count"
   ]
  },
  {
   "cell_type": "code",
   "execution_count": 52,
   "id": "e870785c",
   "metadata": {
    "colab": {
     "base_uri": "https://localhost:8080/"
    },
    "id": "e870785c",
    "outputId": "bcf5a9f9-7fc2-47ae-ffbd-6d7684e44f91"
   },
   "outputs": [
    {
     "data": {
      "text/plain": [
       "5"
      ]
     },
     "execution_count": 52,
     "metadata": {},
     "output_type": "execute_result"
    }
   ],
   "source": [
    "modelWikipedia.epochs"
   ]
  },
  {
   "cell_type": "code",
   "execution_count": 53,
   "id": "44741b99",
   "metadata": {
    "id": "44741b99"
   },
   "outputs": [],
   "source": [
    "modelWikipedia.wv.vectors_lockf = np.ones(len(modelWikipedia.wv))"
   ]
  },
  {
   "cell_type": "code",
   "execution_count": null,
   "id": "80c4319a",
   "metadata": {
    "id": "80c4319a",
    "outputId": "e2b7cd23-6cc3-4a1c-8999-a49d10798a22"
   },
   "outputs": [
    {
     "data": {
      "text/plain": [
       "(74960, 1)"
      ]
     },
     "execution_count": 39,
     "metadata": {},
     "output_type": "execute_result"
    }
   ],
   "source": [
    "X_train.shape"
   ]
  },
  {
   "cell_type": "code",
   "execution_count": 54,
   "id": "e2416111",
   "metadata": {
    "id": "e2416111"
   },
   "outputs": [],
   "source": [
    "modelWikipedia.build_vocab([wikipedia_wv.key_to_index], update=True)\n",
    "modelWikipedia.wv.intersect_word2vec_format('/content/ShardDrives/MyDrive/nlp/glove-wiki-gigaword-300.gz', lockf=1.0)"
   ]
  },
  {
   "cell_type": "code",
   "execution_count": 55,
   "id": "60d11e00",
   "metadata": {
    "colab": {
     "base_uri": "https://localhost:8080/"
    },
    "id": "60d11e00",
    "outputId": "63ac075c-f6fd-44c5-ad53-b2573434c730"
   },
   "outputs": [
    {
     "data": {
      "text/plain": [
       "[('client_secret', 3.520011e-05),\n",
       " ('editplus', 3.520011e-05),\n",
       " ('whatsnewkit', 3.520011e-05),\n",
       " ('portname', 3.520011e-05),\n",
       " ('operatorfunction', 3.520011e-05),\n",
       " ('masquerade', 3.520011e-05),\n",
       " ('alessandro', 3.520011e-05),\n",
       " ('scicomp', 3.520011e-05),\n",
       " ('npw', 3.520011e-05),\n",
       " ('gmdate', 3.520011e-05)]"
      ]
     },
     "execution_count": 55,
     "metadata": {},
     "output_type": "execute_result"
    }
   ],
   "source": [
    "modelWikipedia.predict_output_word('java')"
   ]
  },
  {
   "cell_type": "code",
   "execution_count": 56,
   "id": "ae431c6e",
   "metadata": {
    "colab": {
     "base_uri": "https://localhost:8080/"
    },
    "id": "ae431c6e",
    "outputId": "a5e24336-5dab-48b8-8ca4-431e0182f26a",
    "scrolled": true
   },
   "outputs": [
    {
     "data": {
      "text/plain": [
       "[('freebsd', 0.6575999855995178),\n",
       " ('unix', 0.654360830783844),\n",
       " ('os', 0.6241284608840942),\n",
       " ('ubuntu', 0.6010157465934753),\n",
       " ('solaris', 0.5962995886802673),\n",
       " ('kernel', 0.5935722589492798),\n",
       " ('desktop', 0.5804030895233154),\n",
       " ('debian', 0.5526514649391174),\n",
       " ('xp', 0.5510505437850952),\n",
       " ('server', 0.5466394424438477)]"
      ]
     },
     "execution_count": 56,
     "metadata": {},
     "output_type": "execute_result"
    }
   ],
   "source": [
    "modelWikipedia.wv.most_similar(positive=[\"linux\"])"
   ]
  },
  {
   "cell_type": "code",
   "execution_count": 57,
   "id": "8153439b",
   "metadata": {
    "colab": {
     "base_uri": "https://localhost:8080/"
    },
    "id": "8153439b",
    "outputId": "80d054b0-b7fd-49d1-9cfc-a44d1dac95fb",
    "scrolled": true
   },
   "outputs": [
    {
     "data": {
      "text/plain": [
       "(4613735, 11387685)"
      ]
     },
     "execution_count": 57,
     "metadata": {},
     "output_type": "execute_result"
    }
   ],
   "source": [
    "modelWikipedia.train(X_train['text'],total_examples=training_examples_count, epochs=modelWikipedia.epochs)"
   ]
  },
  {
   "cell_type": "code",
   "execution_count": 58,
   "id": "3852a91b",
   "metadata": {
    "colab": {
     "base_uri": "https://localhost:8080/"
    },
    "id": "3852a91b",
    "outputId": "3c73ef56-2889-440d-9d01-dc77779604ca",
    "scrolled": false
   },
   "outputs": [
    {
     "data": {
      "text/plain": [
       "[('v', 0.99992275),\n",
       " ('hyper', 4.6564273e-05),\n",
       " ('express', 8.885369e-06),\n",
       " ('msbuild', 4.4354947e-06),\n",
       " ('resharper', 4.320347e-06),\n",
       " ('rc', 1.9827528e-06),\n",
       " ('omnisharp', 1.4687654e-06),\n",
       " ('tfs', 4.4820231e-07),\n",
       " ('hresult', 3.9514435e-07),\n",
       " ('intellisense', 3.8669197e-07)]"
      ]
     },
     "execution_count": 58,
     "metadata": {},
     "output_type": "execute_result"
    }
   ],
   "source": [
    "modelWikipedia.predict_output_word('java')"
   ]
  },
  {
   "cell_type": "code",
   "execution_count": 59,
   "id": "4f6c52eb",
   "metadata": {
    "colab": {
     "base_uri": "https://localhost:8080/"
    },
    "id": "4f6c52eb",
    "outputId": "b9abaf95-26df-47f5-8301-3c00439200e7",
    "scrolled": true
   },
   "outputs": [
    {
     "data": {
      "text/plain": [
       "[('gnu', 0.6421453952789307),\n",
       " ('arch', 0.6216177940368652),\n",
       " ('unix', 0.6140703558921814),\n",
       " ('kernel', 0.6005076169967651),\n",
       " ('machine', 0.558546245098114),\n",
       " ('window', 0.5448927283287048),\n",
       " ('fedora', 0.5448815226554871),\n",
       " ('mint', 0.5226677656173706),\n",
       " ('arm', 0.4994640350341797),\n",
       " ('syscalls', 0.4888329803943634)]"
      ]
     },
     "execution_count": 59,
     "metadata": {},
     "output_type": "execute_result"
    }
   ],
   "source": [
    "modelWikipedia.wv.most_similar(positive=[\"linux\"])"
   ]
  },
  {
   "cell_type": "code",
   "execution_count": 60,
   "id": "a5509c9f",
   "metadata": {
    "colab": {
     "base_uri": "https://localhost:8080/"
    },
    "id": "a5509c9f",
    "outputId": "d29720ac-0b55-4f0f-de2e-e1255dec22aa"
   },
   "outputs": [
    {
     "data": {
      "text/plain": [
       "(74960, 300)"
      ]
     },
     "execution_count": 60,
     "metadata": {},
     "output_type": "execute_result"
    }
   ],
   "source": [
    "import numpy\n",
    "\n",
    "def get_vect(word, model):\n",
    "    try:\n",
    "        return model.wv[word]\n",
    "    except KeyError:\n",
    "        return numpy.zeros((model.vector_size,))\n",
    "\n",
    "def sum_vectors(phrase, model):\n",
    "    return sum(get_vect(w, model) for w in phrase)\n",
    "\n",
    "def word2vec_features(X, model):\n",
    "    feats = numpy.vstack([sum_vectors(p, model) for p in X])\n",
    "    return feats\n",
    "\n",
    "wv_train_feat3 = word2vec_features(X_train[\"text\"], modelWikipedia)\n",
    "wv_train_feat3.shape"
   ]
  },
  {
   "cell_type": "code",
   "execution_count": 61,
   "id": "a188c6b0",
   "metadata": {
    "colab": {
     "base_uri": "https://localhost:8080/"
    },
    "id": "a188c6b0",
    "outputId": "3e07e930-67df-42c0-b236-a618525bda2a"
   },
   "outputs": [
    {
     "data": {
      "text/plain": [
       "(18741, 300)"
      ]
     },
     "execution_count": 61,
     "metadata": {},
     "output_type": "execute_result"
    }
   ],
   "source": [
    "wv_test_feat3 = word2vec_features(X_test[\"text\"], modelWikipedia)\n",
    "wv_test_feat3.shape"
   ]
  },
  {
   "cell_type": "code",
   "execution_count": 62,
   "id": "47349b01",
   "metadata": {
    "colab": {
     "base_uri": "https://localhost:8080/",
     "height": 81
    },
    "id": "47349b01",
    "outputId": "de95c02c-7a8c-4ff5-b38b-a51fab38a37e",
    "scrolled": false
   },
   "outputs": [
    {
     "data": {
      "text/html": [
       "\n",
       "  <div id=\"df-4b1cce34-dd04-4ad7-84db-f8eb5e242333\">\n",
       "    <div class=\"colab-df-container\">\n",
       "      <div>\n",
       "<style scoped>\n",
       "    .dataframe tbody tr th:only-of-type {\n",
       "        vertical-align: middle;\n",
       "    }\n",
       "\n",
       "    .dataframe tbody tr th {\n",
       "        vertical-align: top;\n",
       "    }\n",
       "\n",
       "    .dataframe thead th {\n",
       "        text-align: right;\n",
       "    }\n",
       "</style>\n",
       "<table border=\"1\" class=\"dataframe\">\n",
       "  <thead>\n",
       "    <tr style=\"text-align: right;\">\n",
       "      <th></th>\n",
       "      <th>estimator</th>\n",
       "      <th>accuracy</th>\n",
       "      <th>f1_macro</th>\n",
       "      <th>f1_micro</th>\n",
       "      <th>jaccard</th>\n",
       "      <th>recall</th>\n",
       "      <th>precision</th>\n",
       "    </tr>\n",
       "  </thead>\n",
       "  <tbody>\n",
       "    <tr>\n",
       "      <th>0</th>\n",
       "      <td>logisticWvLoaded</td>\n",
       "      <td>0.33686</td>\n",
       "      <td>0.497</td>\n",
       "      <td>0.594</td>\n",
       "      <td>0.427</td>\n",
       "      <td>0.471</td>\n",
       "      <td>0.77</td>\n",
       "    </tr>\n",
       "  </tbody>\n",
       "</table>\n",
       "</div>\n",
       "      <button class=\"colab-df-convert\" onclick=\"convertToInteractive('df-4b1cce34-dd04-4ad7-84db-f8eb5e242333')\"\n",
       "              title=\"Convert this dataframe to an interactive table.\"\n",
       "              style=\"display:none;\">\n",
       "        \n",
       "  <svg xmlns=\"http://www.w3.org/2000/svg\" height=\"24px\"viewBox=\"0 0 24 24\"\n",
       "       width=\"24px\">\n",
       "    <path d=\"M0 0h24v24H0V0z\" fill=\"none\"/>\n",
       "    <path d=\"M18.56 5.44l.94 2.06.94-2.06 2.06-.94-2.06-.94-.94-2.06-.94 2.06-2.06.94zm-11 1L8.5 8.5l.94-2.06 2.06-.94-2.06-.94L8.5 2.5l-.94 2.06-2.06.94zm10 10l.94 2.06.94-2.06 2.06-.94-2.06-.94-.94-2.06-.94 2.06-2.06.94z\"/><path d=\"M17.41 7.96l-1.37-1.37c-.4-.4-.92-.59-1.43-.59-.52 0-1.04.2-1.43.59L10.3 9.45l-7.72 7.72c-.78.78-.78 2.05 0 2.83L4 21.41c.39.39.9.59 1.41.59.51 0 1.02-.2 1.41-.59l7.78-7.78 2.81-2.81c.8-.78.8-2.07 0-2.86zM5.41 20L4 18.59l7.72-7.72 1.47 1.35L5.41 20z\"/>\n",
       "  </svg>\n",
       "      </button>\n",
       "      \n",
       "  <style>\n",
       "    .colab-df-container {\n",
       "      display:flex;\n",
       "      flex-wrap:wrap;\n",
       "      gap: 12px;\n",
       "    }\n",
       "\n",
       "    .colab-df-convert {\n",
       "      background-color: #E8F0FE;\n",
       "      border: none;\n",
       "      border-radius: 50%;\n",
       "      cursor: pointer;\n",
       "      display: none;\n",
       "      fill: #1967D2;\n",
       "      height: 32px;\n",
       "      padding: 0 0 0 0;\n",
       "      width: 32px;\n",
       "    }\n",
       "\n",
       "    .colab-df-convert:hover {\n",
       "      background-color: #E2EBFA;\n",
       "      box-shadow: 0px 1px 2px rgba(60, 64, 67, 0.3), 0px 1px 3px 1px rgba(60, 64, 67, 0.15);\n",
       "      fill: #174EA6;\n",
       "    }\n",
       "\n",
       "    [theme=dark] .colab-df-convert {\n",
       "      background-color: #3B4455;\n",
       "      fill: #D2E3FC;\n",
       "    }\n",
       "\n",
       "    [theme=dark] .colab-df-convert:hover {\n",
       "      background-color: #434B5C;\n",
       "      box-shadow: 0px 1px 3px 1px rgba(0, 0, 0, 0.15);\n",
       "      filter: drop-shadow(0px 1px 2px rgba(0, 0, 0, 0.3));\n",
       "      fill: #FFFFFF;\n",
       "    }\n",
       "  </style>\n",
       "\n",
       "      <script>\n",
       "        const buttonEl =\n",
       "          document.querySelector('#df-4b1cce34-dd04-4ad7-84db-f8eb5e242333 button.colab-df-convert');\n",
       "        buttonEl.style.display =\n",
       "          google.colab.kernel.accessAllowed ? 'block' : 'none';\n",
       "\n",
       "        async function convertToInteractive(key) {\n",
       "          const element = document.querySelector('#df-4b1cce34-dd04-4ad7-84db-f8eb5e242333');\n",
       "          const dataTable =\n",
       "            await google.colab.kernel.invokeFunction('convertToInteractive',\n",
       "                                                     [key], {});\n",
       "          if (!dataTable) return;\n",
       "\n",
       "          const docLinkHtml = 'Like what you see? Visit the ' +\n",
       "            '<a target=\"_blank\" href=https://colab.research.google.com/notebooks/data_table.ipynb>data table notebook</a>'\n",
       "            + ' to learn more about interactive tables.';\n",
       "          element.innerHTML = '';\n",
       "          dataTable['output_type'] = 'display_data';\n",
       "          await google.colab.output.renderOutput(dataTable, element);\n",
       "          const docLink = document.createElement('div');\n",
       "          docLink.innerHTML = docLinkHtml;\n",
       "          element.appendChild(docLink);\n",
       "        }\n",
       "      </script>\n",
       "    </div>\n",
       "  </div>\n",
       "  "
      ],
      "text/plain": [
       "          estimator  accuracy  f1_macro  f1_micro  jaccard  recall  precision\n",
       "0  logisticWvLoaded   0.33686     0.497     0.594    0.427   0.471       0.77"
      ]
     },
     "execution_count": 62,
     "metadata": {},
     "output_type": "execute_result"
    }
   ],
   "source": [
    "#training with vector size 50\n",
    "logisticWvWiki =  Pipeline([\n",
    "    #with word to vectorS\n",
    "    ('std',StandardScaler()),\n",
    "    ('test',OneVsRestClassifier(LogisticRegression(max_iter=1000))), \n",
    "])\n",
    "logisticWvWiki.fit(wv_train_feat3, y_train)\n",
    "getMetrics(logisticWvWiki,'logisticWvLoaded',wv_test_feat3, y_test)\n",
    "# logisticWv.score(wv_test_feat3[0:100000], y_test[0:100000])"
   ]
  },
  {
   "cell_type": "markdown",
   "id": "d927edae",
   "metadata": {},
   "source": [
    "resultat presque equivalent pour la vocab wiki\n",
    "\n",
    "nous allons le tester dans un gridSearch pour voir"
   ]
  },
  {
   "cell_type": "markdown",
   "id": "nqu0Gokm6enP",
   "metadata": {
    "id": "nqu0Gokm6enP"
   },
   "source": [
    "<a name='co'></a>\n",
    "\n",
    "<div class=\"bg-primary text-lg-left text-white\">\n",
    "    <div >\n",
    "        <h1 class=\"text-center\" style=\"padding: 10px 0 10px 0;\">\n",
    "           intersection entre le vocab conceptNet externe et notre vocab\n",
    "        </h1>\n",
    "    </div>\n",
    "</div>"
   ]
  },
  {
   "cell_type": "code",
   "execution_count": 63,
   "id": "6lsSg-uE6enQ",
   "metadata": {
    "id": "6lsSg-uE6enQ"
   },
   "outputs": [],
   "source": [
    "from gensim.models import Word2Vec, Phrases, phrases, KeyedVectors"
   ]
  },
  {
   "cell_type": "code",
   "execution_count": 64,
   "id": "Zyf_w76l6enR",
   "metadata": {
    "id": "Zyf_w76l6enR"
   },
   "outputs": [],
   "source": [
    "conceptNet_wv = gensim.models.KeyedVectors.load_word2vec_format('/content/ShardDrives/MyDrive/nlp/conceptnet-numberbatch-17-06-300.gz')"
   ]
  },
  {
   "cell_type": "code",
   "execution_count": 65,
   "id": "-P1sxgg86enR",
   "metadata": {
    "id": "-P1sxgg86enR",
    "scrolled": false
   },
   "outputs": [],
   "source": [
    "# google_wv.key_to_index.keys"
   ]
  },
  {
   "cell_type": "code",
   "execution_count": 81,
   "id": "xaAKMfAs6enS",
   "metadata": {
    "id": "xaAKMfAs6enS"
   },
   "outputs": [],
   "source": [
    "modelConceptNet = gensim.models.Word2Vec(\n",
    "                X_train[\"text\"], \n",
    "                vector_size=300, \n",
    "                window=20,\n",
    "                min_count=2, \n",
    "                sample=6e-5, \n",
    "                alpha=0.03, \n",
    "                min_alpha=0.0007, \n",
    "                negative=20,                                                    \n",
    "                workers=7)\n",
    "modelConceptNet.build_vocab(X_train['text'])"
   ]
  },
  {
   "cell_type": "code",
   "execution_count": 82,
   "id": "4iRFX7_86enS",
   "metadata": {
    "colab": {
     "base_uri": "https://localhost:8080/"
    },
    "id": "4iRFX7_86enS",
    "outputId": "62863771-62a8-4045-947c-3e62dab068fa"
   },
   "outputs": [
    {
     "data": {
      "text/plain": [
       "74960"
      ]
     },
     "execution_count": 82,
     "metadata": {},
     "output_type": "execute_result"
    }
   ],
   "source": [
    "training_examples_count = modelConceptNet.corpus_count\n",
    "training_examples_count"
   ]
  },
  {
   "cell_type": "code",
   "execution_count": 83,
   "id": "EyE7Nz0l6enT",
   "metadata": {
    "colab": {
     "base_uri": "https://localhost:8080/"
    },
    "id": "EyE7Nz0l6enT",
    "outputId": "bf32f8a4-321c-43b5-deda-ed530c64c81e"
   },
   "outputs": [
    {
     "data": {
      "text/plain": [
       "5"
      ]
     },
     "execution_count": 83,
     "metadata": {},
     "output_type": "execute_result"
    }
   ],
   "source": [
    "modelConceptNet.epochs"
   ]
  },
  {
   "cell_type": "code",
   "execution_count": 84,
   "id": "YjUsQk7w6enU",
   "metadata": {
    "id": "YjUsQk7w6enU"
   },
   "outputs": [],
   "source": [
    "modelConceptNet.wv.vectors_lockf = np.ones(len(modelConceptNet.wv))"
   ]
  },
  {
   "cell_type": "code",
   "execution_count": 85,
   "id": "wiMQdaiE6enU",
   "metadata": {
    "colab": {
     "base_uri": "https://localhost:8080/"
    },
    "id": "wiMQdaiE6enU",
    "outputId": "63b1cdb4-567f-49b8-c7d4-a0e09e425c68"
   },
   "outputs": [
    {
     "data": {
      "text/plain": [
       "(74960, 1)"
      ]
     },
     "execution_count": 85,
     "metadata": {},
     "output_type": "execute_result"
    }
   ],
   "source": [
    "X_train.shape"
   ]
  },
  {
   "cell_type": "code",
   "execution_count": 86,
   "id": "q7y29aE96enV",
   "metadata": {
    "id": "q7y29aE96enV"
   },
   "outputs": [],
   "source": [
    "modelConceptNet.build_vocab([conceptNet_wv.key_to_index], update=True)\n",
    "modelConceptNet.wv.intersect_word2vec_format('/content/ShardDrives/MyDrive/nlp/conceptnet-numberbatch-17-06-300.gz', lockf=1.0)"
   ]
  },
  {
   "cell_type": "code",
   "execution_count": 87,
   "id": "LbP_IB206enV",
   "metadata": {
    "colab": {
     "base_uri": "https://localhost:8080/"
    },
    "id": "LbP_IB206enV",
    "outputId": "290a631e-4922-4e38-f6c3-dc5724a5a4d6"
   },
   "outputs": [
    {
     "data": {
      "text/plain": [
       "[('client_secret', 3.520011e-05),\n",
       " ('editplus', 3.520011e-05),\n",
       " ('whatsnewkit', 3.520011e-05),\n",
       " ('portname', 3.520011e-05),\n",
       " ('operatorfunction', 3.520011e-05),\n",
       " ('masquerade', 3.520011e-05),\n",
       " ('alessandro', 3.520011e-05),\n",
       " ('scicomp', 3.520011e-05),\n",
       " ('npw', 3.520011e-05),\n",
       " ('gmdate', 3.520011e-05)]"
      ]
     },
     "execution_count": 87,
     "metadata": {},
     "output_type": "execute_result"
    }
   ],
   "source": [
    "modelConceptNet.predict_output_word('java')"
   ]
  },
  {
   "cell_type": "code",
   "execution_count": 88,
   "id": "CgVGSmKM6enW",
   "metadata": {
    "colab": {
     "base_uri": "https://localhost:8080/"
    },
    "id": "CgVGSmKM6enW",
    "outputId": "bec51fc4-9147-4d4e-be15-66e562b00ce3",
    "scrolled": true
   },
   "outputs": [
    {
     "data": {
      "text/plain": [
       "[('advantage', 0.6255552768707275),\n",
       " ('equinox', 0.6073939204216003),\n",
       " ('strip', 0.6062387228012085),\n",
       " ('assist', 0.589634120464325),\n",
       " ('parallax', 0.5736305117607117),\n",
       " ('webxml', 0.573511004447937),\n",
       " ('parsefacebookutils(pffacebooktokencachingstrategyo', 0.5663239359855652),\n",
       " ('banana', 0.5631721615791321),\n",
       " ('comappledt', 0.5575751662254333),\n",
       " ('preocess', 0.5457735061645508)]"
      ]
     },
     "execution_count": 88,
     "metadata": {},
     "output_type": "execute_result"
    }
   ],
   "source": [
    "modelConceptNet.wv.most_similar(positive=[\"linux\"])"
   ]
  },
  {
   "cell_type": "code",
   "execution_count": 89,
   "id": "fAfO7jKp6enX",
   "metadata": {
    "colab": {
     "base_uri": "https://localhost:8080/"
    },
    "id": "fAfO7jKp6enX",
    "outputId": "1f96e1d2-ab05-490a-894d-2baa671ebf3c",
    "scrolled": true
   },
   "outputs": [
    {
     "data": {
      "text/plain": [
       "(4612636, 11387685)"
      ]
     },
     "execution_count": 89,
     "metadata": {},
     "output_type": "execute_result"
    }
   ],
   "source": [
    "modelConceptNet.train(X_train['text'],total_examples=training_examples_count, epochs=modelConceptNet.epochs)"
   ]
  },
  {
   "cell_type": "code",
   "execution_count": 90,
   "id": "2hvHKgwe6enX",
   "metadata": {
    "colab": {
     "base_uri": "https://localhost:8080/"
    },
    "id": "2hvHKgwe6enX",
    "outputId": "a486ff21-bdde-4844-ad18-269f3d059736",
    "scrolled": false
   },
   "outputs": [
    {
     "data": {
      "text/plain": [
       "[('v', 0.9987191),\n",
       " ('resharper', 0.0007580151),\n",
       " ('rc', 7.1449394e-05),\n",
       " ('tfs', 5.1228828e-05),\n",
       " ('editor', 3.736896e-05),\n",
       " ('msbuild', 1.7247097e-05),\n",
       " ('ctp', 1.6567246e-05),\n",
       " ('xunit', 1.5118287e-05),\n",
       " ('winform', 1.0881047e-05),\n",
       " ('vscode', 9.390127e-06)]"
      ]
     },
     "execution_count": 90,
     "metadata": {},
     "output_type": "execute_result"
    }
   ],
   "source": [
    "modelConceptNet.predict_output_word('java')"
   ]
  },
  {
   "cell_type": "code",
   "execution_count": 91,
   "id": "RaMWcgw76enY",
   "metadata": {
    "colab": {
     "base_uri": "https://localhost:8080/"
    },
    "id": "RaMWcgw76enY",
    "outputId": "af9f93d8-5369-49bb-bc5a-196de8875bf9",
    "scrolled": true
   },
   "outputs": [
    {
     "data": {
      "text/plain": [
       "[('mint', 0.6334328055381775),\n",
       " ('gnu', 0.6171266436576843),\n",
       " ('syscalls', 0.6126101016998291),\n",
       " ('bsd', 0.6069719195365906),\n",
       " ('arch', 0.5932028293609619),\n",
       " ('kernel', 0.5917574763298035),\n",
       " ('distro', 0.5860258340835571),\n",
       " ('ld_library_path', 0.5574800372123718),\n",
       " ('fedora', 0.5474988222122192),\n",
       " ('sendmsg', 0.5462530851364136)]"
      ]
     },
     "execution_count": 91,
     "metadata": {},
     "output_type": "execute_result"
    }
   ],
   "source": [
    "modelConceptNet.wv.most_similar(positive=[\"linux\"])"
   ]
  },
  {
   "cell_type": "code",
   "execution_count": 92,
   "id": "t4YF22kl6enY",
   "metadata": {
    "colab": {
     "base_uri": "https://localhost:8080/"
    },
    "id": "t4YF22kl6enY",
    "outputId": "39400517-7eca-4974-f306-f5be9a263b30"
   },
   "outputs": [
    {
     "data": {
      "text/plain": [
       "(74960, 300)"
      ]
     },
     "execution_count": 92,
     "metadata": {},
     "output_type": "execute_result"
    }
   ],
   "source": [
    "import numpy\n",
    "\n",
    "def get_vect(word, model):\n",
    "    try:\n",
    "        return model.wv[word]\n",
    "    except KeyError:\n",
    "        return numpy.zeros((model.vector_size,))\n",
    "\n",
    "def sum_vectors(phrase, model):\n",
    "    return sum(get_vect(w, model) for w in phrase)\n",
    "\n",
    "def word2vec_features(X, model):\n",
    "    feats = numpy.vstack([sum_vectors(p, model) for p in X])\n",
    "    return feats\n",
    "\n",
    "wv_train_feat4 = word2vec_features(X_train[\"text\"], modelConceptNet)\n",
    "wv_train_feat4.shape"
   ]
  },
  {
   "cell_type": "code",
   "execution_count": 93,
   "id": "3r8bo4vV6enZ",
   "metadata": {
    "colab": {
     "base_uri": "https://localhost:8080/"
    },
    "id": "3r8bo4vV6enZ",
    "outputId": "1fb76066-403d-48f9-fdc3-48fa617b3c18"
   },
   "outputs": [
    {
     "data": {
      "text/plain": [
       "(18741, 300)"
      ]
     },
     "execution_count": 93,
     "metadata": {},
     "output_type": "execute_result"
    }
   ],
   "source": [
    "wv_test_feat4 = word2vec_features(X_test[\"text\"], modelConceptNet)\n",
    "wv_test_feat4.shape"
   ]
  },
  {
   "cell_type": "code",
   "execution_count": 94,
   "id": "sV2bH-9h6ena",
   "metadata": {
    "colab": {
     "base_uri": "https://localhost:8080/",
     "height": 81
    },
    "id": "sV2bH-9h6ena",
    "outputId": "5e0dfada-5b7e-41da-b7a2-f82c772d667d",
    "scrolled": false
   },
   "outputs": [
    {
     "data": {
      "text/html": [
       "\n",
       "  <div id=\"df-28a8d11c-8b3d-4286-bab1-5a830fa5610c\">\n",
       "    <div class=\"colab-df-container\">\n",
       "      <div>\n",
       "<style scoped>\n",
       "    .dataframe tbody tr th:only-of-type {\n",
       "        vertical-align: middle;\n",
       "    }\n",
       "\n",
       "    .dataframe tbody tr th {\n",
       "        vertical-align: top;\n",
       "    }\n",
       "\n",
       "    .dataframe thead th {\n",
       "        text-align: right;\n",
       "    }\n",
       "</style>\n",
       "<table border=\"1\" class=\"dataframe\">\n",
       "  <thead>\n",
       "    <tr style=\"text-align: right;\">\n",
       "      <th></th>\n",
       "      <th>estimator</th>\n",
       "      <th>accuracy</th>\n",
       "      <th>f1_macro</th>\n",
       "      <th>f1_micro</th>\n",
       "      <th>jaccard</th>\n",
       "      <th>recall</th>\n",
       "      <th>precision</th>\n",
       "    </tr>\n",
       "  </thead>\n",
       "  <tbody>\n",
       "    <tr>\n",
       "      <th>0</th>\n",
       "      <td>logisticWvLoaded</td>\n",
       "      <td>0.32426</td>\n",
       "      <td>0.476</td>\n",
       "      <td>0.581</td>\n",
       "      <td>0.413</td>\n",
       "      <td>0.457</td>\n",
       "      <td>0.765</td>\n",
       "    </tr>\n",
       "  </tbody>\n",
       "</table>\n",
       "</div>\n",
       "      <button class=\"colab-df-convert\" onclick=\"convertToInteractive('df-28a8d11c-8b3d-4286-bab1-5a830fa5610c')\"\n",
       "              title=\"Convert this dataframe to an interactive table.\"\n",
       "              style=\"display:none;\">\n",
       "        \n",
       "  <svg xmlns=\"http://www.w3.org/2000/svg\" height=\"24px\"viewBox=\"0 0 24 24\"\n",
       "       width=\"24px\">\n",
       "    <path d=\"M0 0h24v24H0V0z\" fill=\"none\"/>\n",
       "    <path d=\"M18.56 5.44l.94 2.06.94-2.06 2.06-.94-2.06-.94-.94-2.06-.94 2.06-2.06.94zm-11 1L8.5 8.5l.94-2.06 2.06-.94-2.06-.94L8.5 2.5l-.94 2.06-2.06.94zm10 10l.94 2.06.94-2.06 2.06-.94-2.06-.94-.94-2.06-.94 2.06-2.06.94z\"/><path d=\"M17.41 7.96l-1.37-1.37c-.4-.4-.92-.59-1.43-.59-.52 0-1.04.2-1.43.59L10.3 9.45l-7.72 7.72c-.78.78-.78 2.05 0 2.83L4 21.41c.39.39.9.59 1.41.59.51 0 1.02-.2 1.41-.59l7.78-7.78 2.81-2.81c.8-.78.8-2.07 0-2.86zM5.41 20L4 18.59l7.72-7.72 1.47 1.35L5.41 20z\"/>\n",
       "  </svg>\n",
       "      </button>\n",
       "      \n",
       "  <style>\n",
       "    .colab-df-container {\n",
       "      display:flex;\n",
       "      flex-wrap:wrap;\n",
       "      gap: 12px;\n",
       "    }\n",
       "\n",
       "    .colab-df-convert {\n",
       "      background-color: #E8F0FE;\n",
       "      border: none;\n",
       "      border-radius: 50%;\n",
       "      cursor: pointer;\n",
       "      display: none;\n",
       "      fill: #1967D2;\n",
       "      height: 32px;\n",
       "      padding: 0 0 0 0;\n",
       "      width: 32px;\n",
       "    }\n",
       "\n",
       "    .colab-df-convert:hover {\n",
       "      background-color: #E2EBFA;\n",
       "      box-shadow: 0px 1px 2px rgba(60, 64, 67, 0.3), 0px 1px 3px 1px rgba(60, 64, 67, 0.15);\n",
       "      fill: #174EA6;\n",
       "    }\n",
       "\n",
       "    [theme=dark] .colab-df-convert {\n",
       "      background-color: #3B4455;\n",
       "      fill: #D2E3FC;\n",
       "    }\n",
       "\n",
       "    [theme=dark] .colab-df-convert:hover {\n",
       "      background-color: #434B5C;\n",
       "      box-shadow: 0px 1px 3px 1px rgba(0, 0, 0, 0.15);\n",
       "      filter: drop-shadow(0px 1px 2px rgba(0, 0, 0, 0.3));\n",
       "      fill: #FFFFFF;\n",
       "    }\n",
       "  </style>\n",
       "\n",
       "      <script>\n",
       "        const buttonEl =\n",
       "          document.querySelector('#df-28a8d11c-8b3d-4286-bab1-5a830fa5610c button.colab-df-convert');\n",
       "        buttonEl.style.display =\n",
       "          google.colab.kernel.accessAllowed ? 'block' : 'none';\n",
       "\n",
       "        async function convertToInteractive(key) {\n",
       "          const element = document.querySelector('#df-28a8d11c-8b3d-4286-bab1-5a830fa5610c');\n",
       "          const dataTable =\n",
       "            await google.colab.kernel.invokeFunction('convertToInteractive',\n",
       "                                                     [key], {});\n",
       "          if (!dataTable) return;\n",
       "\n",
       "          const docLinkHtml = 'Like what you see? Visit the ' +\n",
       "            '<a target=\"_blank\" href=https://colab.research.google.com/notebooks/data_table.ipynb>data table notebook</a>'\n",
       "            + ' to learn more about interactive tables.';\n",
       "          element.innerHTML = '';\n",
       "          dataTable['output_type'] = 'display_data';\n",
       "          await google.colab.output.renderOutput(dataTable, element);\n",
       "          const docLink = document.createElement('div');\n",
       "          docLink.innerHTML = docLinkHtml;\n",
       "          element.appendChild(docLink);\n",
       "        }\n",
       "      </script>\n",
       "    </div>\n",
       "  </div>\n",
       "  "
      ],
      "text/plain": [
       "          estimator  accuracy  f1_macro  f1_micro  jaccard  recall  precision\n",
       "0  logisticWvLoaded   0.32426     0.476     0.581    0.413   0.457      0.765"
      ]
     },
     "execution_count": 94,
     "metadata": {},
     "output_type": "execute_result"
    }
   ],
   "source": [
    "#training with vector size 50\n",
    "logisticWvWiki =  Pipeline([\n",
    "    #with word to vectorS\n",
    "    ('std',StandardScaler()),\n",
    "    ('test',OneVsRestClassifier(LogisticRegression(max_iter=3000))), \n",
    "])\n",
    "logisticWvWiki.fit(wv_train_feat4, y_train)\n",
    "getMetrics(logisticWvWiki,'logisticWvLoaded',wv_test_feat4, y_test)\n",
    "# logisticWv.score(wv_test_feat3[0:100000], y_test[0:100000])"
   ]
  },
  {
   "cell_type": "markdown",
   "id": "74661810",
   "metadata": {
    "ExecuteTime": {
     "end_time": "2022-03-26T14:46:14.011040Z",
     "start_time": "2022-03-26T14:46:14.007031Z"
    }
   },
   "source": [
    "resultat moins performant "
   ]
  },
  {
   "cell_type": "markdown",
   "id": "i_k7YceUIg3_",
   "metadata": {
    "id": "i_k7YceUIg3_"
   },
   "source": [
    "\n",
    "\n",
    "<a name='fa'></a>\n",
    "\n",
    "<div class=\"bg-primary text-lg-left text-white\">\n",
    "    <div >\n",
    "        <h1 class=\"text-center\" style=\"padding: 10px 0 10px 0;\">\n",
    "          intersection entre le vocab fastText externe et notre vocab\n",
    "        </h1>\n",
    "    </div>\n",
    "</div>\n"
   ]
  },
  {
   "cell_type": "code",
   "execution_count": 95,
   "id": "Ppquy2qPIg3_",
   "metadata": {
    "id": "Ppquy2qPIg3_"
   },
   "outputs": [],
   "source": [
    "from gensim.models import Word2Vec, Phrases, phrases, KeyedVectors"
   ]
  },
  {
   "cell_type": "code",
   "execution_count": 102,
   "id": "tsxnGVt7Ig4A",
   "metadata": {
    "id": "tsxnGVt7Ig4A"
   },
   "outputs": [],
   "source": [
    "fastText_wv = gensim.models.KeyedVectors.load_word2vec_format('/content/ShardDrives/MyDrive/nlp/fasttext-wiki-news-subwords-300.gz', encoding='utf-8')"
   ]
  },
  {
   "cell_type": "code",
   "execution_count": null,
   "id": "HUc5CwYdIg4A",
   "metadata": {
    "id": "HUc5CwYdIg4A",
    "scrolled": false
   },
   "outputs": [],
   "source": [
    "# google_wv.key_to_index.keys"
   ]
  },
  {
   "cell_type": "code",
   "execution_count": 103,
   "id": "05L-5ksgIg4A",
   "metadata": {
    "id": "05L-5ksgIg4A"
   },
   "outputs": [],
   "source": [
    "modelFastTExt = gensim.models.Word2Vec(\n",
    "                X_train[\"text\"], \n",
    "                vector_size=300, \n",
    "                window=20,\n",
    "                min_count=2, \n",
    "                sample=6e-5, \n",
    "                alpha=0.03, \n",
    "                min_alpha=0.0007, \n",
    "                negative=20,                                                    \n",
    "                workers=7)\n",
    "modelFastTExt.build_vocab(X_train['text'])"
   ]
  },
  {
   "cell_type": "code",
   "execution_count": 104,
   "id": "YwB6AQS_Ig4A",
   "metadata": {
    "colab": {
     "base_uri": "https://localhost:8080/"
    },
    "id": "YwB6AQS_Ig4A",
    "outputId": "3554ad56-5811-4ed3-a1bd-2ba545ae907e"
   },
   "outputs": [
    {
     "data": {
      "text/plain": [
       "74960"
      ]
     },
     "execution_count": 104,
     "metadata": {},
     "output_type": "execute_result"
    }
   ],
   "source": [
    "training_examples_count = modelFastTExt.corpus_count\n",
    "training_examples_count"
   ]
  },
  {
   "cell_type": "code",
   "execution_count": 105,
   "id": "E8Gjj2QKIg4B",
   "metadata": {
    "colab": {
     "base_uri": "https://localhost:8080/"
    },
    "id": "E8Gjj2QKIg4B",
    "outputId": "98d74dd4-d5a2-4c5d-ad21-e6bcbed691d0"
   },
   "outputs": [
    {
     "data": {
      "text/plain": [
       "5"
      ]
     },
     "execution_count": 105,
     "metadata": {},
     "output_type": "execute_result"
    }
   ],
   "source": [
    "modelConceptNet.epochs"
   ]
  },
  {
   "cell_type": "code",
   "execution_count": 106,
   "id": "J6yhTYCkIg4B",
   "metadata": {
    "id": "J6yhTYCkIg4B"
   },
   "outputs": [],
   "source": [
    "modelFastTExt.wv.vectors_lockf = np.ones(len(modelFastTExt.wv))"
   ]
  },
  {
   "cell_type": "code",
   "execution_count": 107,
   "id": "r0qlWUS1Ig4C",
   "metadata": {
    "colab": {
     "base_uri": "https://localhost:8080/"
    },
    "id": "r0qlWUS1Ig4C",
    "outputId": "b947d4a2-7b60-4dcb-a2c3-b3d1755ba558"
   },
   "outputs": [
    {
     "data": {
      "text/plain": [
       "(74960, 1)"
      ]
     },
     "execution_count": 107,
     "metadata": {},
     "output_type": "execute_result"
    }
   ],
   "source": [
    "X_train.shape"
   ]
  },
  {
   "cell_type": "code",
   "execution_count": 108,
   "id": "5Vmm_xZMIg4C",
   "metadata": {
    "id": "5Vmm_xZMIg4C"
   },
   "outputs": [],
   "source": [
    "modelFastTExt.build_vocab([fastText_wv.key_to_index], update=True)\n",
    "modelFastTExt.wv.intersect_word2vec_format('/content/ShardDrives/MyDrive/nlp/fasttext-wiki-news-subwords-300.gz', lockf=1.0)"
   ]
  },
  {
   "cell_type": "code",
   "execution_count": 109,
   "id": "Su2rDeAyIg4C",
   "metadata": {
    "colab": {
     "base_uri": "https://localhost:8080/"
    },
    "id": "Su2rDeAyIg4C",
    "outputId": "8e7775a4-386f-470e-8725-a90731821cd8"
   },
   "outputs": [
    {
     "data": {
      "text/plain": [
       "[('client_secret', 3.520011e-05),\n",
       " ('editplus', 3.520011e-05),\n",
       " ('whatsnewkit', 3.520011e-05),\n",
       " ('portname', 3.520011e-05),\n",
       " ('operatorfunction', 3.520011e-05),\n",
       " ('masquerade', 3.520011e-05),\n",
       " ('alessandro', 3.520011e-05),\n",
       " ('scicomp', 3.520011e-05),\n",
       " ('npw', 3.520011e-05),\n",
       " ('gmdate', 3.520011e-05)]"
      ]
     },
     "execution_count": 109,
     "metadata": {},
     "output_type": "execute_result"
    }
   ],
   "source": [
    "modelFastTExt.predict_output_word('java')"
   ]
  },
  {
   "cell_type": "code",
   "execution_count": 110,
   "id": "ijPwITfXIg4D",
   "metadata": {
    "colab": {
     "base_uri": "https://localhost:8080/"
    },
    "id": "ijPwITfXIg4D",
    "outputId": "ea22402c-636d-4f08-8593-fbd66f7ee5de",
    "scrolled": true
   },
   "outputs": [
    {
     "data": {
      "text/plain": [
       "[('unix', 0.7261496186256409),\n",
       " ('distro', 0.7151504755020142),\n",
       " ('debian', 0.7010477185249329),\n",
       " ('cygwin', 0.6785581111907959),\n",
       " ('freebsd', 0.6748203635215759),\n",
       " ('redhat', 0.6732003688812256),\n",
       " ('distros', 0.655481219291687),\n",
       " ('vmware', 0.6455954909324646),\n",
       " ('userland', 0.6305261254310608),\n",
       " ('microsoft', 0.627495288848877)]"
      ]
     },
     "execution_count": 110,
     "metadata": {},
     "output_type": "execute_result"
    }
   ],
   "source": [
    "modelFastTExt.wv.most_similar(positive=[\"linux\"])"
   ]
  },
  {
   "cell_type": "code",
   "execution_count": 111,
   "id": "3yIRHmh2Ig4D",
   "metadata": {
    "colab": {
     "base_uri": "https://localhost:8080/"
    },
    "id": "3yIRHmh2Ig4D",
    "outputId": "f423e04d-8f4a-4cb7-fd9d-f4dad8958c03",
    "scrolled": true
   },
   "outputs": [
    {
     "data": {
      "text/plain": [
       "(4610149, 11387685)"
      ]
     },
     "execution_count": 111,
     "metadata": {},
     "output_type": "execute_result"
    }
   ],
   "source": [
    "modelFastTExt.train(X_train['text'],total_examples=training_examples_count, epochs=modelFastTExt.epochs)"
   ]
  },
  {
   "cell_type": "code",
   "execution_count": 112,
   "id": "1i1vs2tdIg4D",
   "metadata": {
    "colab": {
     "base_uri": "https://localhost:8080/"
    },
    "id": "1i1vs2tdIg4D",
    "outputId": "cf0d8124-6301-4d2a-e86b-e9b67d678152",
    "scrolled": false
   },
   "outputs": [
    {
     "data": {
      "text/plain": [
       "[('v', 0.99856085),\n",
       " ('resharper', 0.0006579461),\n",
       " ('tfs', 9.2705974e-05),\n",
       " ('hyper', 7.158148e-05),\n",
       " ('csproj', 4.8017133e-05),\n",
       " ('f', 3.151934e-05),\n",
       " ('rc', 3.095811e-05),\n",
       " ('g', 2.6709506e-05),\n",
       " ('msbuild', 2.2571765e-05),\n",
       " ('express', 1.9417157e-05)]"
      ]
     },
     "execution_count": 112,
     "metadata": {},
     "output_type": "execute_result"
    }
   ],
   "source": [
    "modelFastTExt.predict_output_word('java')"
   ]
  },
  {
   "cell_type": "code",
   "execution_count": 113,
   "id": "V8EVkchUIg4D",
   "metadata": {
    "colab": {
     "base_uri": "https://localhost:8080/"
    },
    "id": "V8EVkchUIg4D",
    "outputId": "c58da04b-2194-4b2e-a4c8-121db2c3dc6a",
    "scrolled": true
   },
   "outputs": [
    {
     "data": {
      "text/plain": [
       "[('arch', 0.7498563528060913),\n",
       " ('gnu', 0.7277716994285583),\n",
       " ('unix', 0.7267122268676758),\n",
       " ('fedora', 0.6938449144363403),\n",
       " ('machine', 0.6929482817649841),\n",
       " ('kernel', 0.6762269735336304),\n",
       " ('arm', 0.6761000156402588),\n",
       " ('strace', 0.670507550239563),\n",
       " ('mint', 0.6571052074432373),\n",
       " ('filesystem', 0.6416885256767273)]"
      ]
     },
     "execution_count": 113,
     "metadata": {},
     "output_type": "execute_result"
    }
   ],
   "source": [
    "modelFastTExt.wv.most_similar(positive=[\"linux\"])"
   ]
  },
  {
   "cell_type": "code",
   "execution_count": 114,
   "id": "L8lIrrE7Ig4E",
   "metadata": {
    "colab": {
     "base_uri": "https://localhost:8080/"
    },
    "id": "L8lIrrE7Ig4E",
    "outputId": "490710e4-4c7f-4af4-84c2-eab6f17392d0"
   },
   "outputs": [
    {
     "data": {
      "text/plain": [
       "(74960, 300)"
      ]
     },
     "execution_count": 114,
     "metadata": {},
     "output_type": "execute_result"
    }
   ],
   "source": [
    "import numpy\n",
    "\n",
    "def get_vect(word, model):\n",
    "    try:\n",
    "        return model.wv[word]\n",
    "    except KeyError:\n",
    "        return numpy.zeros((model.vector_size,))\n",
    "\n",
    "def sum_vectors(phrase, model):\n",
    "    return sum(get_vect(w, model) for w in phrase)\n",
    "\n",
    "def word2vec_features(X, model):\n",
    "    feats = numpy.vstack([sum_vectors(p, model) for p in X])\n",
    "    return feats\n",
    "\n",
    "wv_train_feat5 = word2vec_features(X_train[\"text\"], modelFastTExt)\n",
    "wv_train_feat5.shape"
   ]
  },
  {
   "cell_type": "code",
   "execution_count": 115,
   "id": "D01nw_ZVIg4E",
   "metadata": {
    "colab": {
     "base_uri": "https://localhost:8080/"
    },
    "id": "D01nw_ZVIg4E",
    "outputId": "a3ec140d-1275-48e8-a8e8-a5a8c3fcbcf4"
   },
   "outputs": [
    {
     "data": {
      "text/plain": [
       "(18741, 300)"
      ]
     },
     "execution_count": 115,
     "metadata": {},
     "output_type": "execute_result"
    }
   ],
   "source": [
    "wv_test_feat5 = word2vec_features(X_test[\"text\"], modelFastTExt)\n",
    "wv_test_feat5.shape"
   ]
  },
  {
   "cell_type": "code",
   "execution_count": 116,
   "id": "Y5EhAQJ_Ig4E",
   "metadata": {
    "colab": {
     "base_uri": "https://localhost:8080/",
     "height": 81
    },
    "id": "Y5EhAQJ_Ig4E",
    "outputId": "9452b61f-7660-4180-feb1-abdb37d3047e",
    "scrolled": false
   },
   "outputs": [
    {
     "data": {
      "text/html": [
       "\n",
       "  <div id=\"df-c49736a4-433a-41dd-be21-999a2c3e3b0e\">\n",
       "    <div class=\"colab-df-container\">\n",
       "      <div>\n",
       "<style scoped>\n",
       "    .dataframe tbody tr th:only-of-type {\n",
       "        vertical-align: middle;\n",
       "    }\n",
       "\n",
       "    .dataframe tbody tr th {\n",
       "        vertical-align: top;\n",
       "    }\n",
       "\n",
       "    .dataframe thead th {\n",
       "        text-align: right;\n",
       "    }\n",
       "</style>\n",
       "<table border=\"1\" class=\"dataframe\">\n",
       "  <thead>\n",
       "    <tr style=\"text-align: right;\">\n",
       "      <th></th>\n",
       "      <th>estimator</th>\n",
       "      <th>accuracy</th>\n",
       "      <th>f1_macro</th>\n",
       "      <th>f1_micro</th>\n",
       "      <th>jaccard</th>\n",
       "      <th>recall</th>\n",
       "      <th>precision</th>\n",
       "    </tr>\n",
       "  </thead>\n",
       "  <tbody>\n",
       "    <tr>\n",
       "      <th>0</th>\n",
       "      <td>logisticWvFastText</td>\n",
       "      <td>0.28296</td>\n",
       "      <td>0.406</td>\n",
       "      <td>0.532</td>\n",
       "      <td>0.366</td>\n",
       "      <td>0.402</td>\n",
       "      <td>0.739</td>\n",
       "    </tr>\n",
       "  </tbody>\n",
       "</table>\n",
       "</div>\n",
       "      <button class=\"colab-df-convert\" onclick=\"convertToInteractive('df-c49736a4-433a-41dd-be21-999a2c3e3b0e')\"\n",
       "              title=\"Convert this dataframe to an interactive table.\"\n",
       "              style=\"display:none;\">\n",
       "        \n",
       "  <svg xmlns=\"http://www.w3.org/2000/svg\" height=\"24px\"viewBox=\"0 0 24 24\"\n",
       "       width=\"24px\">\n",
       "    <path d=\"M0 0h24v24H0V0z\" fill=\"none\"/>\n",
       "    <path d=\"M18.56 5.44l.94 2.06.94-2.06 2.06-.94-2.06-.94-.94-2.06-.94 2.06-2.06.94zm-11 1L8.5 8.5l.94-2.06 2.06-.94-2.06-.94L8.5 2.5l-.94 2.06-2.06.94zm10 10l.94 2.06.94-2.06 2.06-.94-2.06-.94-.94-2.06-.94 2.06-2.06.94z\"/><path d=\"M17.41 7.96l-1.37-1.37c-.4-.4-.92-.59-1.43-.59-.52 0-1.04.2-1.43.59L10.3 9.45l-7.72 7.72c-.78.78-.78 2.05 0 2.83L4 21.41c.39.39.9.59 1.41.59.51 0 1.02-.2 1.41-.59l7.78-7.78 2.81-2.81c.8-.78.8-2.07 0-2.86zM5.41 20L4 18.59l7.72-7.72 1.47 1.35L5.41 20z\"/>\n",
       "  </svg>\n",
       "      </button>\n",
       "      \n",
       "  <style>\n",
       "    .colab-df-container {\n",
       "      display:flex;\n",
       "      flex-wrap:wrap;\n",
       "      gap: 12px;\n",
       "    }\n",
       "\n",
       "    .colab-df-convert {\n",
       "      background-color: #E8F0FE;\n",
       "      border: none;\n",
       "      border-radius: 50%;\n",
       "      cursor: pointer;\n",
       "      display: none;\n",
       "      fill: #1967D2;\n",
       "      height: 32px;\n",
       "      padding: 0 0 0 0;\n",
       "      width: 32px;\n",
       "    }\n",
       "\n",
       "    .colab-df-convert:hover {\n",
       "      background-color: #E2EBFA;\n",
       "      box-shadow: 0px 1px 2px rgba(60, 64, 67, 0.3), 0px 1px 3px 1px rgba(60, 64, 67, 0.15);\n",
       "      fill: #174EA6;\n",
       "    }\n",
       "\n",
       "    [theme=dark] .colab-df-convert {\n",
       "      background-color: #3B4455;\n",
       "      fill: #D2E3FC;\n",
       "    }\n",
       "\n",
       "    [theme=dark] .colab-df-convert:hover {\n",
       "      background-color: #434B5C;\n",
       "      box-shadow: 0px 1px 3px 1px rgba(0, 0, 0, 0.15);\n",
       "      filter: drop-shadow(0px 1px 2px rgba(0, 0, 0, 0.3));\n",
       "      fill: #FFFFFF;\n",
       "    }\n",
       "  </style>\n",
       "\n",
       "      <script>\n",
       "        const buttonEl =\n",
       "          document.querySelector('#df-c49736a4-433a-41dd-be21-999a2c3e3b0e button.colab-df-convert');\n",
       "        buttonEl.style.display =\n",
       "          google.colab.kernel.accessAllowed ? 'block' : 'none';\n",
       "\n",
       "        async function convertToInteractive(key) {\n",
       "          const element = document.querySelector('#df-c49736a4-433a-41dd-be21-999a2c3e3b0e');\n",
       "          const dataTable =\n",
       "            await google.colab.kernel.invokeFunction('convertToInteractive',\n",
       "                                                     [key], {});\n",
       "          if (!dataTable) return;\n",
       "\n",
       "          const docLinkHtml = 'Like what you see? Visit the ' +\n",
       "            '<a target=\"_blank\" href=https://colab.research.google.com/notebooks/data_table.ipynb>data table notebook</a>'\n",
       "            + ' to learn more about interactive tables.';\n",
       "          element.innerHTML = '';\n",
       "          dataTable['output_type'] = 'display_data';\n",
       "          await google.colab.output.renderOutput(dataTable, element);\n",
       "          const docLink = document.createElement('div');\n",
       "          docLink.innerHTML = docLinkHtml;\n",
       "          element.appendChild(docLink);\n",
       "        }\n",
       "      </script>\n",
       "    </div>\n",
       "  </div>\n",
       "  "
      ],
      "text/plain": [
       "            estimator  accuracy  f1_macro  f1_micro  jaccard  recall  \\\n",
       "0  logisticWvFastText   0.28296     0.406     0.532    0.366   0.402   \n",
       "\n",
       "   precision  \n",
       "0      0.739  "
      ]
     },
     "execution_count": 116,
     "metadata": {},
     "output_type": "execute_result"
    }
   ],
   "source": [
    "#training with vector size 50\n",
    "logisticWvFastText =  Pipeline([\n",
    "    #with word to vectorS\n",
    "    ('std',StandardScaler()),\n",
    "    ('test',OneVsRestClassifier(LogisticRegression(max_iter=3000))), \n",
    "])\n",
    "logisticWvFastText.fit(wv_train_feat5, y_train)\n",
    "getMetrics(logisticWvFastText,'logisticWvFastText',wv_test_feat5, y_test)\n",
    "# logisticWv.score(wv_test_feat3[0:100000], y_test[0:100000])"
   ]
  },
  {
   "cell_type": "markdown",
   "id": "f25c52df",
   "metadata": {
    "ExecuteTime": {
     "end_time": "2022-03-26T14:46:32.533995Z",
     "start_time": "2022-03-26T14:46:32.529647Z"
    }
   },
   "source": [
    "resultat pas performant du tout"
   ]
  },
  {
   "cell_type": "markdown",
   "id": "bab76ea5",
   "metadata": {},
   "source": [
    "A partir des resultats de notre benchmark , nous pouvons conclure que seul la vocab wikipedia est interessante a explorer, nous allons faire un gridseach dessus"
   ]
  },
  {
   "cell_type": "markdown",
   "id": "3838bf05",
   "metadata": {},
   "source": [
    "<div class=\"bg-primary text-lg-left text-white\">\n",
    "    <div>\n",
    "        <h1 class=\"text-center\" style=\"padding: 10px 0 10px 0;\">\n",
    "          API disponlible\n",
    "        </h1>\n",
    "    </div>\n",
    "\n",
    "</div>\n",
    "    <div class=\"text-lg-left \">\n",
    "       <a href=\"https://github.com/ismailazdad/stackoverflowTags\" target=\"_blank\">stackoverflow</a>\n",
    "    </div>\n",
    "     <div>       \n",
    "       <a href=\"http://ismail2233.pythonanywhere.com/\" target=\"_blank\">online version</a>\n",
    "    </div>\n",
    "\n"
   ]
  }
 ],
 "metadata": {
  "colab": {
   "collapsed_sections": [
    "433698c3"
   ],
   "machine_shape": "hm",
   "name": "comparatif_tfIdf_word2vec.ipynb",
   "provenance": []
  },
  "kernelspec": {
   "display_name": "Python 3 (ipykernel)",
   "language": "python",
   "name": "python3"
  },
  "language_info": {
   "codemirror_mode": {
    "name": "ipython",
    "version": 3
   },
   "file_extension": ".py",
   "mimetype": "text/x-python",
   "name": "python",
   "nbconvert_exporter": "python",
   "pygments_lexer": "ipython3",
   "version": "3.8.10"
  },
  "toc": {
   "base_numbering": 1,
   "nav_menu": {},
   "number_sections": true,
   "sideBar": true,
   "skip_h1_title": false,
   "title_cell": "Table of Contents",
   "title_sidebar": "Contents",
   "toc_cell": false,
   "toc_position": {},
   "toc_section_display": true,
   "toc_window_display": false
  }
 },
 "nbformat": 4,
 "nbformat_minor": 5
}
